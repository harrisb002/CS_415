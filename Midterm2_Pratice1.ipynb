{
  "nbformat": 4,
  "nbformat_minor": 0,
  "metadata": {
    "colab": {
      "provenance": [],
      "collapsed_sections": [
        "I6I5Eogqss6L",
        "5H_zRY3ttRqg",
        "W-yg1p7udG7A",
        "2-7SA4lSkgRE",
        "QEtxjJbPkhpN",
        "_2woJtRJkjUl",
        "pQAM2htSkmVh",
        "tLoo2wr2kqDd",
        "XvGJ6RvmkrgV",
        "pMvAGhz7ksyq",
        "tMACTbUAkvYl",
        "Ml0vQwYIkwwA",
        "SudKcd8ZkyEb",
        "sLJ9iqBwv2j3",
        "GqgrXyOWv6c_",
        "FZpDefPzv4fO",
        "lcPJ2TZktQMr",
        "AAhlL0ZGtT9T",
        "zPmrSA7VtVGt",
        "NWLT2ZD2tYnt",
        "kpclOylttier",
        "eZaX5LTatr-0",
        "B3CtfL0RttUb",
        "4Pn5bAH0tudc",
        "mGnqdWlntxlL"
      ],
      "authorship_tag": "ABX9TyOn1wcHw2aFi5++QA92HBCo",
      "include_colab_link": true
    },
    "kernelspec": {
      "name": "python3",
      "display_name": "Python 3"
    },
    "language_info": {
      "name": "python"
    }
  },
  "cells": [
    {
      "cell_type": "markdown",
      "metadata": {
        "id": "view-in-github",
        "colab_type": "text"
      },
      "source": [
        "<a href=\"https://colab.research.google.com/github/harrisb002/CS_415/blob/MidtermReview_2/Midterm2_Pratice1.ipynb\" target=\"_parent\"><img src=\"https://colab.research.google.com/assets/colab-badge.svg\" alt=\"Open In Colab\"/></a>"
      ]
    },
    {
      "cell_type": "markdown",
      "source": [
        "# **Midterm2_Practice1 Review**"
      ],
      "metadata": {
        "id": "w5LnnawFskPh"
      }
    },
    {
      "cell_type": "markdown",
      "source": [
        "# Problem 1\n",
        "- Shown below is a weighted, undirected graph G = <V,E> on which Kruskal’s algorithm  is used to find the minimum spanning tree. Exhibit how the data structure for disjoint sets will change after each step of Kruskal’s algorithm. (You can ignore path compression while performing FIND.)\n",
        "\n",
        "\n",
        "![Screen Shot 2023-11-09 at 12.08.52 PM.png](data:image/png;base64,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)"
      ],
      "metadata": {
        "id": "I6I5Eogqss6L"
      }
    },
    {
      "cell_type": "markdown",
      "source": [
        "---\n",
        "**Solution:**\n",
        "\n",
        "- Initially, each vertex is in its own set: A, B, C, D, E, F\n",
        "\n",
        "- The edges are sorted by their weights, and the algorithm will add the shortest edge that does not form a cycle with the already chosen edges. The sorted edges by weight are:\n",
        "\n",
        "- AC(1), BD(1), EF(1), AB(2), BC(2), CD(2), CE(3), DE(4), DF(4)\n",
        " - Add edge AC(1). Disjoint sets are now:\n",
        "\n",
        "- AC, B, D, E, F\n",
        " - Add edge BD(1). Disjoint sets are now:\n",
        "\n",
        "- AC, BD, E, F\n",
        " - Add edge EF(1). Disjoint sets are now:\n",
        "\n",
        "- AB, CD, EF\n",
        " - Add edge BC(2) or CD(2). Either will connect the two disjoint sets of ABCD and EF without forming a cycle. If we add BC(2), for instance, disjoint sets are now:\n",
        "\n",
        "- ABCD & EF\n",
        " - Next Edge CE(3):\n",
        "Connects C to E. Since E is in the set with F and C is in the set with A, B, and D, this edge connects the two different sets without forming a cycle:\n",
        "\n",
        "- At this point, all vertices are included in a single connected component, and the minimum spanning tree (MST) has been found. The sequence of edges added to form this MST is AC(1), BD(1), EF(1), BC(2), CE(3)\n",
        "\n",
        "```\n",
        "The total weight of the minimum spanning tree is 1 + 1 + 1 + 2 + 3 = 8.\n",
        "\n",
        "```\n",
        "\n",
        "---"
      ],
      "metadata": {
        "id": "bTgpSLoKZKZn"
      }
    },
    {
      "cell_type": "markdown",
      "source": [
        "# Problem 1 (Exercise 5.5 pg 161)\n",
        "- Consider an undirected graph G = (V, E) with nonnegative edge weights we ≥ 0. Suppose that you have computed a minimum spanning tree of G, and that you have also computed shortest paths to all nodes from a particular node s ∈ V . Now suppose each edge weight is increased by 1: the new weights are $w_{e}$' =  $w_{e}$ + 1."
      ],
      "metadata": {
        "id": "wILQ9NaTv4Se"
      }
    },
    {
      "cell_type": "markdown",
      "source": [
        "# Problem 1 (a)\n",
        "- Does the minimum spanning tree change? Give an example where it changes or prove it cannot change.\n",
        "\n"
      ],
      "metadata": {
        "id": "5H_zRY3ttRqg"
      }
    },
    {
      "cell_type": "markdown",
      "source": [
        "**Solution:**\n",
        "- The MST of a graph is the subset of edges that connects all the vertices together, without any cycles, and with the minimum possible total edge weight. If we increase each edge weight in the graph by 1, the difference in weight between any two particular edges remains the same. Since the MST is determined by the relative weights of the edges, adding 1 to every edge weight would not change which edges are chosen for the MST. The MST remains the same because the overall ranking of the edges by weight does not change.\n",
        "\n",
        "- Proof: Let's assume we have two edges e1 and e2 with weights w(e1) and w(e2) such that w(e1) < w(e2). If we add 1 to both edges, the new weights will be w'(e1) = w(e1) + 1 and w'(e2) = w(e2) + 1. The inequality still holds: w'(e1) < w'(e2). Since the relative weights are preserved, the process of selecting the edges for the MST will not change. Therefore, the MST will remain the same."
      ],
      "metadata": {
        "id": "OrpiG_lxtYGh"
      }
    },
    {
      "cell_type": "markdown",
      "source": [
        "\n",
        "# Problem 1 (b)\n",
        "- Do the shortest paths change? Give an example where they change or prove they cannot\n",
        "change.\n",
        "\n"
      ],
      "metadata": {
        "id": "W-yg1p7udG7A"
      }
    },
    {
      "cell_type": "markdown",
      "source": [
        "**Solution:**\n",
        "- Increasing each edge weight by 1 could change the shortest path in the graph. The shortest path is dependent on the sum of weights from a starting vertext to the destination vertex. However, this increase in a weight of 1 to all edges is proportional to the number of edges in the path. Therefore, if the shortest path was first found to be one with more edges but a smaller sum total of the wieghts in the path, while there existed another path with a larger sum but less edges than this can sway the result when '1' is added to all edges by disproportionally adding more weight to the path with more edges.\n",
        "- Example: Given two paths to the ending vertex 'Z':\n",
        "  - AB(1),BC(1),CD(1),DE(1),EF(1),FZ(1) = 6\n",
        "  - AG(2),GH(2),HZ(3) = 7\n",
        "  - As for now the Shortest path is obviously AB -> FZ, however after adding one to all edges this changes.\n",
        "   - AB(2),BC(2),CD(2),DE(2),EF(2),FZ(2) = 12\n",
        "   - AG(3),GH(3),HZ(4) = 10\n",
        "   - Now the Shortest path is obviously AG -> HZ, demonstrating that the shortest path can change.\n",
        "\n",
        "- This simple graph illustates it:\n",
        "\n",
        "![Screenshot 2023-11-10 at 5.14.40 PM.png](data:image/png;base64,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)"
      ],
      "metadata": {
        "id": "FtFPcqkslQ8_"
      }
    },
    {
      "cell_type": "markdown",
      "source": [
        "# Problem 2 (Exercise 5.9)\n",
        "- The following statements may or may not be correct. In each case, either prove it (if it is correct) or give a counterexample (if it isn't correct). Always assume that the graph G = (V, E) is undirected. Do not assume that edge weights are distinct unless this is specifically stated.\n",
        "\n"
      ],
      "metadata": {
        "id": "yZKgRWP0v4Y1"
      }
    },
    {
      "cell_type": "markdown",
      "source": [
        "# Problem 2 (a)\n",
        "- If graph G has more than |V | - 1 edges, and there is a unique heaviest edge, then this edge cannot be part of a minimum spanning tree.\n"
      ],
      "metadata": {
        "id": "2-7SA4lSkgRE"
      }
    },
    {
      "cell_type": "markdown",
      "source": [
        "**Solution**\n",
        "- Not Correct. Any unique heaviest edge that is not part of a cycle must be in the MST. A graph with\n",
        "one edge is a counterexample.\n"
      ],
      "metadata": {
        "id": "PHZ1YDAYsbhA"
      }
    },
    {
      "cell_type": "markdown",
      "source": [
        "# Problem 2 (b)\n",
        "- If G has a cycle with a unique heaviest edge e, then e cannot be part of any MST.\n"
      ],
      "metadata": {
        "id": "QEtxjJbPkhpN"
      }
    },
    {
      "cell_type": "markdown",
      "source": [
        "**Solution**\n",
        "- Correct. An MST has no cycles, so at least one edge of the cycle e'\n",
        "is not in an MST 'T'. If e' != e then we could swap e' for e in T and get a lighter spanning tree."
      ],
      "metadata": {
        "id": "fgOpOqO-vC4q"
      }
    },
    {
      "cell_type": "markdown",
      "source": [
        "# Problem 2 (c)\n",
        "- Let e be any edge of minimum weight in G. Then e must be part of some MST.\n"
      ],
      "metadata": {
        "id": "_2woJtRJkjUl"
      }
    },
    {
      "cell_type": "markdown",
      "source": [
        "**Solution**\n",
        "- Correct. An edge of minimum weight is trivially the minimum weight edge of some cut.\n"
      ],
      "metadata": {
        "id": "RLd7c1lAvJxJ"
      }
    },
    {
      "cell_type": "markdown",
      "source": [
        "# Problem 2 (d)\n",
        "- If the lightest edge in a graph is unique, then it must be part of every MST.\n",
        "\n"
      ],
      "metadata": {
        "id": "pQAM2htSkmVh"
      }
    },
    {
      "cell_type": "markdown",
      "source": [
        "**Solution**\n",
        "- Correct. If the lightest edge is unique, then it is the lightest edge of any cut that separates its endpoints."
      ],
      "metadata": {
        "id": "IK6falBmvSx3"
      }
    },
    {
      "cell_type": "markdown",
      "source": [
        "# Problem 2 (e)\n",
        "- If e is part of some MST of G, then it must be a lightest edge across some cut of G.\n"
      ],
      "metadata": {
        "id": "tLoo2wr2kqDd"
      }
    },
    {
      "cell_type": "markdown",
      "source": [
        "**Solution**\n",
        "- Correct. If there were a lighter edge e' across some cut of G, then we could replace e with e' and obtain a smaller MST.\n"
      ],
      "metadata": {
        "id": "dlg_UoNIvYNL"
      }
    },
    {
      "cell_type": "markdown",
      "source": [
        "# Problem 2 (f)\n",
        "- If G has a cycle with a unique lightest edge e, then e must be part of every MST.\n"
      ],
      "metadata": {
        "id": "XvGJ6RvmkrgV"
      }
    },
    {
      "cell_type": "markdown",
      "source": [
        "**Solution**\n",
        "- Not Correct. The dashed edge with weight 5 is not part of the MST, but is the lightest edge in the left cycle.\n",
        "\n",
        "\n",
        "![Screenshot 2023-11-10 at 4.41.01 PM.png](data:image/png;base64,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)"
      ],
      "metadata": {
        "id": "Ns0pyCIZvfdx"
      }
    },
    {
      "cell_type": "markdown",
      "source": [
        "# Problem 2 (g)\n",
        "- The shortest-path tree computed by Dijkstra’s algorithm is necessarily an MST.\n",
        "\n"
      ],
      "metadata": {
        "id": "pMvAGhz7ksyq"
      }
    },
    {
      "cell_type": "markdown",
      "source": [
        "**Solution**\n",
        "- Not correct. Dijkstra's algorithm finds the shortest paths from a single source to all other vertices in the graph, which is not necessarily a minimum spanning tree. An MST connects all vertices with the minimum total edge weight, while Dijkstra's algorithm is concerned with the shortest path to each vertex, not the total weight.\n",
        "\n",
        "![Screenshot 2023-11-10 at 4.42.47 PM.png](data:image/png;base64,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)"
      ],
      "metadata": {
        "id": "9ete1gJlvkA_"
      }
    },
    {
      "cell_type": "markdown",
      "source": [
        "# Problem 2 (h)\n",
        "- The shortest path between two nodes is necessarily part of some MST.\n",
        "\n"
      ],
      "metadata": {
        "id": "tMACTbUAkvYl"
      }
    },
    {
      "cell_type": "markdown",
      "source": [
        "**Solution**\n",
        "- Incorrect. The shortest path between s and t in (g) is not part of any MST."
      ],
      "metadata": {
        "id": "S0JTa4p3voiB"
      }
    },
    {
      "cell_type": "markdown",
      "source": [
        "# Problem 2 (i)\n",
        "- Prim’s algorithm works correctly when there are negative edges.\n",
        "\n"
      ],
      "metadata": {
        "id": "Ml0vQwYIkwwA"
      }
    },
    {
      "cell_type": "markdown",
      "source": [
        "**Solution**\n",
        "- Correct. Prim's algorithm always adds the lightest edge between the visited vertices and the unvisited vertices, which is the lightest edge of this cut. Negative weights do not affect this."
      ],
      "metadata": {
        "id": "6uANgH43vtTB"
      }
    },
    {
      "cell_type": "markdown",
      "source": [
        "# Problem 2 (j)\n",
        "- (For any r > 0, define an r-path to be a path whose edges all have weight < r.) If G containsan r-path from node s to t, then every MST of G must also contain an r-path from node s tonode t.\n"
      ],
      "metadata": {
        "id": "SudKcd8ZkyEb"
      }
    },
    {
      "cell_type": "markdown",
      "source": [
        "**Solution**\n",
        "- Correct.  Suppose that a graph 'G' contains an r-path from a node 's' to 't' but that there is an MST 'T' of 'G' that does not contain an r-path from 's' to 't'. Then T contains a path from 's' to 't' with an edge 'e' of weight $w_{e}$ ≥ r. Consider the partition (S|V - S) of vertices made by removing 'e' from 'T'. One vertex e' of the r-path must be along this cut, as the r-path connects 's' and 't'. Since $w_{e}$ 0 < r, $w_{e}$ can swap e' for 'e' to get a spanning tree that is lighter than 'T', a contradiction."
      ],
      "metadata": {
        "id": "LTMi47YWvy6i"
      }
    },
    {
      "cell_type": "markdown",
      "source": [
        "# Problem 3 (Exercise 5.16)\n",
        "- Prove the following two properties of the Huffman encoding scheme.\n",
        "\n"
      ],
      "metadata": {
        "id": "pWYIgMprv4c1"
      }
    },
    {
      "cell_type": "markdown",
      "source": [
        "# Problem 3 (a)\n",
        "- If some character occurs with frequency more than 2/5, then there is guaranteed to be a\n",
        "codeword of length 1.\n",
        "\n",
        "\n"
      ],
      "metadata": {
        "id": "sLJ9iqBwv2j3"
      }
    },
    {
      "cell_type": "markdown",
      "source": [
        "**Solution**\n",
        "- Suppose all codewords have length at least 2 - the tree must have at least 2 levels. Let the weight of a node be the sum of the frequencies of all leaves that can be reached from that node. Suppose the weights of the level-2 nodes are (from left to right for a tree rooted on top) a, b, c, and d. Without loss of generality, assume A and B are joined first, then C and D. So, a,b ≤ c,d ≤ a + b.\n",
        "\n",
        "- If a or b is greater than 2/5, then both c and d are greater than 2/5,\n",
        "so a+b+c+d > 6/5 > 1 (impossible). Now suppose c is greater than 2/5 (similar idea if d is greater than 2/5). Then a + b > 2/5,\n",
        "so either a > 1/5 or b > 1/5 which implies d > 1/5. We obtain a + b + c + d > 1 (impossible).\n",
        "\n",
        "Therefore it is not True.\n"
      ],
      "metadata": {
        "id": "LS6joWIYv79k"
      }
    },
    {
      "cell_type": "markdown",
      "source": [
        "# Problem 3 (b)\n",
        "- If all characters occur with frequency less than 1/3, then there is guaranteed to be no codeword of length 1.\n",
        "\n"
      ],
      "metadata": {
        "id": "GqgrXyOWv6c_"
      }
    },
    {
      "cell_type": "markdown",
      "source": [
        "**Solution**\n",
        "- Suppose there is a codeword of length 1. We have 3 cases. Either\n",
        "the tree will consist of 1 single level-1 leaf node, 2 level-1 leaf nodes, or 1 level-1 leaf node, and 2 level-2 nodes with an arbitrary number of leaves below them in the tree. We will prove the contrapositive of the original statement, that is, that if there is a codeword of length 1, there must be a node with frequency greater than 1/3.\n",
        "\n",
        "- In the first case, our leaf must have frequency 1, so we’ve immediately found a leaf of frequency more than 1/3. If the tree has two nodes, one of them has frequency at least 1/2, so condition is again satsified. In the last case, the tree has one level-1 leaf (weight a), and two level-2 nodes (weights c and d). We have: b, c ≤ a. So 1 = a + b + c ≤ 3a, or a ≥ 1/3\n",
        ". Thus once again the condition has been satisfied.\n",
        "\n",
        "Therefore it is true"
      ],
      "metadata": {
        "id": "l1TAD2KUwCHU"
      }
    },
    {
      "cell_type": "markdown",
      "source": [
        "# Problem 4 (Exercise 5.17)\n",
        "- Under a Huffman encoding of n symbols with frequencies f1, f2, . . . , fn, what is the longest a\n",
        "codeword could possibly be? Give an example set of frequencies that would produce this case.\n"
      ],
      "metadata": {
        "id": "FZpDefPzv4fO"
      }
    },
    {
      "cell_type": "markdown",
      "source": [
        "**Solution**\n",
        "- The longest codeword can be of length n - 1. An encoding of n symbols with n - 2 of them having probabilities 1/2, 1/4, . . . , 1/2 n-2 and two of them having probability 1/2 n-1 achieves this value. No codeword can ever by longer than length n - 1.\n",
        "- To see why, we consider a prefix tree of the code. If a codeword has length n or greater, then the prefix tree would have height n or greater, so it would have at least n + 1 leaves. Our alphabet is of size n, so the prefix tree has exactly n leaves."
      ],
      "metadata": {
        "id": "uMmWA3Q8wEiw"
      }
    },
    {
      "cell_type": "markdown",
      "source": [
        "# Problem 5\n",
        "- Which of the following are true of the longest path problem (from s to t for two specified vertices s and t) in a weighted, directed graph G?\n"
      ],
      "metadata": {
        "id": "dmauEf7TtFjQ"
      }
    },
    {
      "cell_type": "markdown",
      "source": [
        "# Problem 5 (a)\n",
        "- There is an O(n+m) time algorithm for this problem.\n",
        "\n",
        "\n"
      ],
      "metadata": {
        "id": "lcPJ2TZktQMr"
      }
    },
    {
      "cell_type": "markdown",
      "source": [
        "**Solution**\n",
        "- True\n",
        "- Algorithm:\n",
        "  - Initialize dist[] = {NegInfinite, NegInfinite, ….} and dist[s] = 0 where s is the source vertex.\n",
        "  - Create a topological order of all vertices.\n",
        "  - Do following for every vertex u in topological order.\n",
        "  - Do following for every adjacent vertex v of u ……if (dist[v] < dist[u] + weight(u, v)) ………dist[v] = dist[u] + weight(u, v)\n",
        "\n",
        "-  Time complexity of topological sorting is O(V+E). After finding topological order, the algorithm process all vertices and for every vertex, it runs a loop for all adjacent vertices. Total adjacent vertices in a graph is O(E). So the inner loop runs O(V+E) times. Therefore, overall time complexity of this algorithm is O(V+E)."
      ],
      "metadata": {
        "id": "W2ZMiy-iwOoC"
      }
    },
    {
      "cell_type": "markdown",
      "source": [
        "# Problem 5 (b)\n",
        "- Changing the weight w to –w on each edge will change the problem to the shortest path problem.\n"
      ],
      "metadata": {
        "id": "AAhlL0ZGtT9T"
      }
    },
    {
      "cell_type": "markdown",
      "source": [
        "**Solution**\n",
        "- This is true. If you have a longest path problem in a graph where each edge has a weight w, and you change each weight to -w, then finding the longest path in the original graph (with weights w) is equivalent to finding the shortest path in the modified graph (with weights −w). This is because minimizing the sum of negative weights is equivalent to maximizing the sum of their absolute values."
      ],
      "metadata": {
        "id": "45KhTtNvwULO"
      }
    },
    {
      "cell_type": "markdown",
      "source": [
        "# Problem 5 (c)\n",
        "- Adding a fixed constant c to the weight of each edge will leave the shortest path unchanged.\n"
      ],
      "metadata": {
        "id": "zPmrSA7VtVGt"
      }
    },
    {
      "cell_type": "markdown",
      "source": [
        "**Solution**\n",
        "- This is true. When you add a fixed constant c to every edge in the graph, the overall difference in the path weights between any two paths remains the same. Therefore, the path that was the shortest before the addition of c to every edge remains the shortest after the addition."
      ],
      "metadata": {
        "id": "-r6FM2TgwaJ8"
      }
    },
    {
      "cell_type": "markdown",
      "source": [
        "# Problem 6\n",
        "- A greedy algorithm for the scheduling problem chooses the most profitable task first, remove all the tasks that overlap with the chosen task(s), and repeat the process. Give an example to show that this algorithm does not produce an optimal solution.\n"
      ],
      "metadata": {
        "id": "NWLT2ZD2tYnt"
      }
    },
    {
      "cell_type": "markdown",
      "source": [
        "**Solution**\n",
        "- Task A: Starts at 1 PM, ends at 4 PM, Profit = $200\n",
        "\n",
        "- Task B: Starts at 3 PM, ends at 6 PM, Profit = $300\n",
        "\n",
        "- Task C: Starts at 5 PM, ends at 7 PM, Profit = $200\n",
        "\n",
        "- The greedy algorithm will choose the most profitable task first, so it would select Task B first because it has the highest profit ($300). After selecting Task B, both Task A and Task C overlap with it (Task A overlaps with the start of Task B, and Task C overlaps with the end of Task B). Thus, the algorithm would discard both Task A and Task C.\n",
        "\n",
        "However, this is not the optimal solution obviously Task A and Task C give a profit of 400$ and would be more profitable and do not overlap with one-another"
      ],
      "metadata": {
        "id": "pfzEMwIPwd7V"
      }
    },
    {
      "cell_type": "markdown",
      "source": [
        "# Problem 7\n",
        "- I have a collection of mp3 files containing n songs of lengths t1, t2, …, tn. I want to create a CD by recording these songs. But the time for which the CD plays is T which is less than the sum t1 + t2 + … + tn so I have to leave out some songs. I want to minimize the wasted space on the CD. Formulate this problem as a knapsack problem. (Specifically, assume that there is a function Knapsack(w[1:n], p[1:n], C) that has been implemented – show how you can use this function to solve the given problem.)\n",
        "\n"
      ],
      "metadata": {
        "id": "kpclOylttier"
      }
    },
    {
      "cell_type": "markdown",
      "source": [
        "**Solution**\n",
        "- **Items to be put in the knapsack:** The songs.\n",
        "- **Weights of the items (w[1:n]):** The lengths of the songs (t1, t2, ..., tn). These represent how much space each song will take on the CD.\n",
        "- **Values of the items (p[1:n]):** Since we want to minimize wasted space rather than maximize value, we can simply set the values of all songs to a constant value (e.g., 1). This way, the algorithm will aim to fill the CD as much as possible without prioritizing any particular song.\n",
        "- **Capacity of the knapsack (C):** The total playtime T of the CD.\n",
        "The function Knapsack(w[1:n], p[1:n], C) can be used here by setting:\n",
        "\n",
        "- Using this setup, the knapsack function will attempt to select a combination of songs (items) such that the total length (weight) is maximized without exceeding the CD's playtime (capacity), while the values (in this case, just constants) are irrelevant beyond filling the capacity. The result will be a selection of songs that minimizes the unused space on the CD."
      ],
      "metadata": {
        "id": "PiAndTOvwhHV"
      }
    },
    {
      "cell_type": "markdown",
      "source": [
        "# Problem 8\n",
        "-  Which of the following are true of Dijkstra’s algorithm?\n",
        "\n"
      ],
      "metadata": {
        "id": "SxcbeV_YtmBo"
      }
    },
    {
      "cell_type": "markdown",
      "source": [
        "# Problem 8 (a)\n",
        "- It requires edge weights to be non-negative.\n",
        "\n"
      ],
      "metadata": {
        "id": "eZaX5LTatr-0"
      }
    },
    {
      "cell_type": "markdown",
      "source": [
        "**Solution**\n",
        "- True. Dijkstra's algorithm requires that all edge weights in the graph are non-negative. The reason is that the algorithm makes decisions based on the assumption that adding a new edge to a path cannot decrease the total path weight."
      ],
      "metadata": {
        "id": "aCUhma1iwoM0"
      }
    },
    {
      "cell_type": "markdown",
      "source": [
        "# Problem 8 (b)\n",
        "- It requires edge weights to satisfy triangle inequality.\n"
      ],
      "metadata": {
        "id": "B3CtfL0RttUb"
      }
    },
    {
      "cell_type": "markdown",
      "source": [
        "**Solution**\n",
        "- Not true. The triangle inequality (where the direct path between two vertices is shorter than or equal to any indirect path) Ex: d(A,C) ≤ d(A,B) + d(B,C) doesn't have to be satisfied for Dijkstra's algorithm to work. Dijkstra's algorithm can correctly find the shortest path in a graph regardless of whether the triangle inequality holds, as long as all edge weights are non-negative. If the triangle inequality is not satisfied, it simply means that some indirect paths may be shorter than direct paths. Dijkstra's algorithm will still correctly identify the shortest paths by considering all possible routes."
      ],
      "metadata": {
        "id": "255LJLLCwugy"
      }
    },
    {
      "cell_type": "markdown",
      "source": [
        "# Problem 8 (c)\n",
        "- Adding a constant to each edge will not change the shortest path between any two vertices.\n"
      ],
      "metadata": {
        "id": "4Pn5bAH0tudc"
      }
    },
    {
      "cell_type": "markdown",
      "source": [
        "**Solution**\n",
        "- False Refer to Probelm 1 (b). When you increase the weight of each edge uniformly, it affects paths with different numbers of edges differently. A path with more edges will have a larger total increase in weight than a path with fewer edges. This change can lead to a different path becoming the shortest path between two vertices."
      ],
      "metadata": {
        "id": "jwf-E16PwzhA"
      }
    },
    {
      "cell_type": "markdown",
      "source": [
        "# Problem 8 (d)\n",
        "- All pairs shortest path can be solved by making n calls to Dijkstra’s algorithm.\n"
      ],
      "metadata": {
        "id": "mGnqdWlntxlL"
      }
    },
    {
      "cell_type": "markdown",
      "source": [
        "**Solution**\n",
        "- True. To find the shortest path between all pairs of vertices in a graph, you can run Dijkstra's algorithm once for each vertex as the source. Since Dijkstra's algorithm finds the shortest path from a single source to all other vertices in a graph, doing this for each of the n vertices will solve the all-pairs shortest path problem.\n"
      ],
      "metadata": {
        "id": "8J9xYVIYw5gZ"
      }
    }
  ]
}