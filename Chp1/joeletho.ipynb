{
  "nbformat": 4,
  "nbformat_minor": 0,
  "metadata": {
    "colab": {
      "provenance": [],
      "authorship_tag": "ABX9TyMUFy6+q+gHtQeuIvKqsGgQ",
      "include_colab_link": true
    },
    "kernelspec": {
      "name": "python3",
      "display_name": "Python 3"
    },
    "language_info": {
      "name": "python"
    }
  },
  "cells": [
    {
      "cell_type": "markdown",
      "metadata": {
        "id": "view-in-github",
        "colab_type": "text"
      },
      "source": [
        "<a href=\"https://colab.research.google.com/github/harrisb002/CS_415/blob/Chp1/joeletho.ipynb\" target=\"_parent\"><img src=\"https://colab.research.google.com/assets/colab-badge.svg\" alt=\"Open In Colab\"/></a>"
      ]
    },
    {
      "cell_type": "code",
      "execution_count": 2,
      "metadata": {
        "id": "EEdLERPJmruv"
      },
      "outputs": [],
      "source": [
        "\"\"\" These functions are from Algorithms by Dasgupta et. al.\n",
        "    Credit for write up -> Joel Thomas\n",
        "\"\"\"\n",
        "\n",
        "def multiply(x, y):\n",
        "  \"\"\" Input:  Two n-bit integers x and y, where y>=0\n",
        "      Output: Their product\n",
        "  \"\"\"\n",
        "  if y == 0:\n",
        "      return 0\n",
        "  z = multiply(x, y//2)\n",
        "  if y % 2 == 0:\n",
        "      return 2*z\n",
        "  else:\n",
        "      return x + 2*z"
      ]
    },
    {
      "cell_type": "code",
      "source": [
        "def divide(x, y):\n",
        "  \"\"\" Input:  Two n-bit integers x and y, where y>=1\n",
        "      Output: The quoient and remainder of x divided by y\n",
        "  \"\"\"\n",
        "  if x < y:\n",
        "      return (0, x)\n",
        "  if x == 0:\n",
        "      return (0,0)\n",
        "  (q,r)=divide(x//2,y)\n",
        "  q=2*q\n",
        "  r=2*r\n",
        "  if x % 2 != 0:\n",
        "      r = r+1\n",
        "  if r >= y:\n",
        "      r = r-y\n",
        "      q = q+1\n",
        "  return (q, r)"
      ],
      "metadata": {
        "id": "OScHLNMNmzPl"
      },
      "execution_count": 3,
      "outputs": []
    },
    {
      "cell_type": "code",
      "source": [
        "def modexp(x,y,N):\n",
        "  \"\"\" Input:  Two n-bit integers x and N, an integer exponent y\n",
        "      Output: x^y mod N\n",
        "  \"\"\"\n",
        "  if y == 0:\n",
        "      return 1\n",
        "  z = modexp(x, y//2, N)\n",
        "  if y % 2 == 0:\n",
        "      print('even')\n",
        "      return z**2%N\n",
        "  else:\n",
        "      print('odd')\n",
        "      return x*z**2%N"
      ],
      "metadata": {
        "id": "WEZ1EVu0m5MF"
      },
      "execution_count": 4,
      "outputs": []
    },
    {
      "cell_type": "code",
      "source": [
        "def gcd(a,b):\n",
        "  \"\"\" Input:  Two integers a and b with a>=b>=0\n",
        "      Output: gcd(a,b)\n",
        "  \"\"\"\n",
        "  if b == 0:\n",
        "      return a\n",
        "  return gcd(b, a%b)"
      ],
      "metadata": {
        "id": "rxpeAv7jm-aF"
      },
      "execution_count": 5,
      "outputs": []
    },
    {
      "cell_type": "code",
      "source": [
        "def gcdext(a,b,calls=0):\n",
        "  \"\"\" Input:  Two integers a and b with a>=b>=0\n",
        "      Output: Integers x,y,d such that d=gcd(a,b) and ax+by=d\n",
        "  \"\"\"\n",
        "  if b==0:\n",
        "      v = (1, 0, a, [calls])\n",
        "      print(v)\n",
        "      return v\n",
        "  (x1,y1,d, [calls]) = gcdext(b,a%b, calls+1)\n",
        "  v = (y1,x1-a//b*y1, d, [calls])\n",
        "  print(v)\n",
        "  return v\n"
      ],
      "metadata": {
        "id": "jfq5_crbm_uX"
      },
      "execution_count": 6,
      "outputs": []
    },
    {
      "cell_type": "code",
      "source": [
        "def inverseModN(a, N):\n",
        "  res =  gcdext(N, a)\n",
        "  if res[-2] != 1:\n",
        "      return None\n",
        "  y = res[1]\n",
        "  if y < 0:\n",
        "      return N+y\n",
        "  return y\n"
      ],
      "metadata": {
        "id": "a43antlKnBn8"
      },
      "execution_count": 7,
      "outputs": []
    },
    {
      "cell_type": "code",
      "source": [
        "def sqrt(x):\n",
        "  z = x\n",
        "  l = 0\n",
        "  count = 0\n",
        "  while l < z:\n",
        "      s = z**2\n",
        "      if s == x:\n",
        "          print(f'count={count}')\n",
        "          return z\n",
        "      if s < x:\n",
        "          l = z\n",
        "          z = z+1\n",
        "      else:\n",
        "          z = z//2\n",
        "      count = count + 1\n",
        "  return -1"
      ],
      "metadata": {
        "id": "l40Yk2_0nDCn"
      },
      "execution_count": 8,
      "outputs": []
    },
    {
      "cell_type": "code",
      "source": [
        "def fib(n):\n",
        "  if n == 0:\n",
        "      return 0\n",
        "  f = [x for x in range(n+1)]\n",
        "  f[0] = 0\n",
        "  f[1] = 1\n",
        "  for i in range(2,n+1):\n",
        "      f[i] = f[i-1] + f[i-2]\n",
        "  return f[n]"
      ],
      "metadata": {
        "id": "wsFMP31Tm8kS"
      },
      "execution_count": 9,
      "outputs": []
    }
  ]
}