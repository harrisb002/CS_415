{
  "nbformat": 4,
  "nbformat_minor": 0,
  "metadata": {
    "colab": {
      "provenance": [],
      "authorship_tag": "ABX9TyMVfFU1/Hwe62pwxWH6j3ii",
      "include_colab_link": true
    },
    "kernelspec": {
      "name": "python3",
      "display_name": "Python 3"
    },
    "language_info": {
      "name": "python"
    }
  },
  "cells": [
    {
      "cell_type": "markdown",
      "metadata": {
        "id": "view-in-github",
        "colab_type": "text"
      },
      "source": [
        "<a href=\"https://colab.research.google.com/github/harrisb002/CS_415/blob/Midterm1/Midterm1_Solutions.ipynb\" target=\"_parent\"><img src=\"https://colab.research.google.com/assets/colab-badge.svg\" alt=\"Open In Colab\"/></a>"
      ]
    },
    {
      "cell_type": "markdown",
      "source": [
        "# My personal solutions to Midterm 1\n"
      ],
      "metadata": {
        "id": "1v4B6UmCjfBF"
      }
    },
    {
      "cell_type": "markdown",
      "source": [
        "# Problem 1:\n",
        "- Consider the algorithm divide shown below:\n"
      ],
      "metadata": {
        "id": "19U3qomLiRJb"
      }
    },
    {
      "cell_type": "code",
      "execution_count": 7,
      "metadata": {
        "id": "_xVniOjsiH94"
      },
      "outputs": [],
      "source": [
        "def divide(x, y):\n",
        "  \"\"\" Input:  Two n-bit integers x and y, where y>=1\n",
        "      Output: The quotient and remainder of x divided by y\n",
        "  \"\"\"\n",
        "  if x == 0:\n",
        "      return (0,0)\n",
        "\n",
        "  (q,r) = divide(x//2,y)\n",
        "  q=2*q\n",
        "  r=2*r\n",
        "  if x % 2 != 0:\n",
        "      r = r+1\n",
        "  if r >= y:\n",
        "      r = r-y\n",
        "      q = q+1\n",
        "  return (q, r)"
      ]
    },
    {
      "cell_type": "markdown",
      "source": [
        "(a) Show the successive recursive calls made and the results returned by each call and the final output for the input pair a = 121 and b = 26\n",
        "- Initial Call: divide(121, 26) -> x = 121 (odd)\n",
        "- Rec Call 1: divide(60, 26) -> x = 60 (even)\n",
        "- Rec Call 2: divide(30, 26) -> x = 30 (even)\n",
        "- Rec Call 3: divide(15, 26) -> x = 15 (odd)\n",
        "- Rec Call 4: divide(7, 26) -> x = 7 (odd)\n",
        "- Rec Call 5: divide(3, 26) -> x = 3 (odd)\n",
        "- Rec Call 6: divide(1, 26) -> x = 1 (odd)\n",
        "- Base Case: divide(0, 26) -> returns q = 0, r = 0\n",
        "\n",
        "Unraveling:\n",
        "- 7) divide(1, 26) -> q = 0, r = 1 (3 is odd, r+1)\n",
        "- 6) divide(3, 26) -> q = 0, r = 3 (3 is odd, r+1)\n",
        "- 5) divide(7, 26) -> q = 0, r = 7 (7 is odd, r+1)\n",
        "- 4) divide(15, 26) -> q = 0, r = 15 (15 is odd, r+1)\n",
        "- 3) divide(30, 26) -> q = 0, r = 30 -> q = 1, r = 4 (30 is even)\n",
        "- 2) divide(60, 26) -> q = 2, r = 8 (60 is even)\n",
        "- 1) divide(121, 26) -> q = 4, r = 17 (121 is odd, r+1)\n",
        "\n",
        "Final result (4, 17)\n"
      ],
      "metadata": {
        "id": "oDXZD-AiiX79"
      }
    },
    {
      "cell_type": "markdown",
      "source": [
        "(b) How many recursive calls are made by divide for the input a = 2^100   and b = 347, not counting the original call?\n",
        "- ANS: The number of times 2^100 needs to be halved until it reaches 0 is equivalent to its binary representation length. In binary,  2^100   is represented as a 1 followed by 100 zeros.  Therefore, it needs to be halved 100 times to reach 1, and then one more time to reach 0. Using this as evidence and not counting the original call,  the number of recursive calls (excluding the original) for the input a = 2^100  and b = 347 is  = 100 times."
      ],
      "metadata": {
        "id": "bRgwB-_bibkJ"
      }
    },
    {
      "cell_type": "markdown",
      "source": [
        "(c) For the input b = 2^100 - 1 , and a in the range  2^100 ⩽  a ⩽ 2^101 how many values of ‘a’ will result in skipping both “if” statements? How many will cause execution of the code associated with both “if” statements? (In the former case, x is even and r < y while in the latter x is odd and r ⩾ y\n",
        "- ANS: “Skipping both “if'' statements,  when x is even and r < y:  Given the range of ‘a’, half of the numbers will be even,. We can definitively say that a = 2^100 will skip both “if statements”, however, just being even is not enough for other numbers in the range. As the condition also requires r < y which means the remainder, after being doubled (and incremented if odd) must be less than y. But, due to the halving nature of the recursive calls and how r is computed, it's obvious that the remainder r will surpass y after several recursive calls. Given the size of y (which is 2^100 - 1) it's extremely unlikely for r to be less than y after a few recursive calls as the value of r increases exponentially with each call. Thus in this range only a = 2^100   will skip both “if” statements.\n",
        "\n",
        "- ANS: Executing both “if” statements, when x is odd and r ⩾ y: For x to be odd, a itself should be odd. In the given range every number that isn't a power of 2 will be odd. This excludes 2^100 and 2^101 but includes all numbers in between. However, given the size of y (2^100 - 1) after a few recursive calls, r is bound to become greater than or equal to y do to the nature of the algorithm. This is because, with each recursive call, r is at least doubled. Even if the initial r values are small, they will grow rapidly and will eventually surpass y. Thus, in this range, all odd values of a except 2^100 and 2^101 will execute the code associated with both “if” statements. Therefore, No values of a will skip both “if” statements and all odd values of a in the given range, excluding 2^100 and 2^101  will execute the code associated with both “if” statements."
      ],
      "metadata": {
        "id": "loQaF4Guiu1q"
      }
    },
    {
      "cell_type": "markdown",
      "source": [
        "(d) Modify the algorithm so that no recursive calls are made when x ⩽ y or y ⩽ 2. Rewrite the complete code with suitable changes.\n",
        "- If x is less than or equal to y, it means the quotient is 0, and the remainder is x.\n",
        "- If y is less than or equal to 2, compute the quotient and remainder using simple division and modulo operator without recursion.\n",
        "- If these base cases are not met then the function continues recursion division as per usual.\n"
      ],
      "metadata": {
        "id": "ils36reti5IK"
      }
    },
    {
      "cell_type": "code",
      "source": [
        "  def divide(x, y):\n",
        "    \"\"\" Input: Two n-bit integers x and y, where y>=1\n",
        "        Output: The quotient and remainder of x divided by y\n",
        "    \"\"\"\n",
        "    # Handle base cases\n",
        "    if x <= y:\n",
        "        return (0, x)\n",
        "    if y <= 2:\n",
        "        return (x // y, x % y)\n",
        "    if x == 0:\n",
        "        return (0, 0)\n",
        "\n",
        "    # Recursive division\n",
        "    (q, r) = divide(x // 2, y)\n",
        "    q = 2 * q\n",
        "    r = 2 * r\n",
        "    if x % 2 != 0:\n",
        "        r = r + 1\n",
        "    if r >= y:\n",
        "        r = r - y\n",
        "        q = q + 1\n",
        "    return (q, r)"
      ],
      "metadata": {
        "id": "YxhL5UbPjAUM"
      },
      "execution_count": null,
      "outputs": []
    },
    {
      "cell_type": "markdown",
      "source": [
        "# Problem 3:\n",
        "- Shown below is the extended-Euclid’s algorithm to find the gcd(d) of a given pair of integers ‘a’ and ‘b’ and to find integers x and y such that  ax + by = d (Note that this algorithm assumes a >= b >= 0)\n"
      ],
      "metadata": {
        "id": "obtjTm25jFCe"
      }
    },
    {
      "cell_type": "code",
      "source": [
        "def gcdext(a,b):\n",
        "  \"\"\" Input:  Two integers a and b with a>=b>=0\n",
        "      Output: Integers x,y,d such that d=gcd(a,b) and ax+by=d\n",
        "  \"\"\"\n",
        "  if b==0:\n",
        "      v = (1, 0, a)\n",
        "      return v\n",
        "  (x1,y1,d) = gcdext(b,a%b)\n",
        "  v = (y1,x1-a//b*y1, d)\n",
        "  return v"
      ],
      "metadata": {
        "id": "QIpR7EJXjINN"
      },
      "execution_count": null,
      "outputs": []
    },
    {
      "cell_type": "markdown",
      "source": [
        "(a) For a = 139, find a value of b for which the algorithm will terminate after three recursive calls. (For example, if b = 69, it terminates after two recursive calls: (139, 69).\n",
        "With a = 139, which choice of b (in the range will result in a maximum number of recursive calls? You can solve this problem by writing a program or by a deductive approach.\n",
        "- First Part: If we choose a value that if doubled is 1 more than 139, such as 70, then we know that the remainder will be 1 after the second recursive call and therefore need one more to terminate at 0. Thus by choosing b = 70 we get:\n",
        "139 % 70 =  70, 69\n",
        "70 % 69 = 69, 1\n",
        "69 % 1 = 0\n",
        "\n",
        "ANS: Thus b = 70 meets this condition of 3 recursive calls\n",
        "\n",
        "- Second Part: Using the programmatic method. The purpose of this function is to iterate over all possible values of b (from 1 to a−1) and find out which ‘b’ causes the most recursive calls when finding the greatest common divisor (gcd) of a and b using the extended Euclid’s algorithm.\n",
        "\n",
        "ANS: Using this algorithm below I found that b = 86 with 9 recursive calls is the max."
      ],
      "metadata": {
        "id": "rq7SPRrPjucN"
      }
    },
    {
      "cell_type": "code",
      "source": [
        "def test_gcdext(a):\n",
        "    # Counts\n",
        "    max_calls = 0\n",
        "    b_max = 0\n",
        "\n",
        "    for b in range(1, a):\n",
        "       # Using count as a list with a single element\n",
        "       # so it is mutable and can be modified within gcdext_modified\n",
        "       # and its changes are seen outside the function as well\n",
        "        count = [0]\n",
        "\n",
        "        # Basically same as gcd_ext but with a count\n",
        "        def gcdext_modified(a, b):\n",
        "            # Incrementing the value inside the list to see which has most rec calls\n",
        "            count[0] += 1\n",
        "            if b == 0:\n",
        "                return (1, 0, a)\n",
        "            (x1, y1, d) = gcdext_modified(b, a % b)\n",
        "            return (y1, x1 - a // b * y1, d)\n",
        "\n",
        "        gcdext_modified(a, b)\n",
        "\n",
        "        # After the function completes for a particular b, if the count (# of rec.calls) is more than\n",
        "        # the previous maximum (max_calls), the max_calls and b_max values are updated.\n",
        "        if count[0] > max_calls:\n",
        "            max_calls = count[0]\n",
        "            b_max = b\n",
        "\n",
        "    return b_max, max_calls\n",
        "\n",
        "print(test_gcdext(139))"
      ],
      "metadata": {
        "colab": {
          "base_uri": "https://localhost:8080/"
        },
        "id": "h5Cc-DGmj-xS",
        "outputId": "156010f0-1a43-4604-871a-666de68302ce"
      },
      "execution_count": null,
      "outputs": [
        {
          "output_type": "stream",
          "name": "stdout",
          "text": [
            "(86, 9)\n"
          ]
        }
      ]
    },
    {
      "cell_type": "markdown",
      "source": [
        "(b) Exhibit the successive recursive calls made on the input pair where (2^m + 2^n, 2^n) where (0 < m < n)  and all the outputs returned by all the calls, and the final output. Repeat the same problem for the input pair  (2^n + 1,  2^n-1 + 1) where (0 < m < n)\n",
        "- a = 2^m + 2^n  , b = 2^n\n",
        "Since 2^m is a power of 2, any number less than 2^n but greater than 2n-1 will have a remainder of the number itself when divided by 2^n. Therefore, (2^m + 2^n) mod 2^n = 2^m because simply adding 2n with a modulo of 2^n will cancel itself leaving 2^m.\n",
        "Resulting in (2^n, 2^m) and for this pair since n > m, 2^n is a multiple of 2m so the remainder would be 0 as the larger number, i.e. 2^n would be wholly divisible by the smaller number 2m leaving no remainder. Thus ending the recursion with 0.\n",
        "Therefore the outputs would resemble:\n",
        "For (2^n, 2^m) -> (0,1,2^m) because when b = 0, x =1, y = 0, and d = a\n",
        "For (2^m + 2^n, 2^n) =>  (1, 0, 2^m)\n",
        "\n",
        "Final output is  (1, 0, 2^m)\n",
        "\n",
        "- a = 2^n + 1, b = 2^n-1 + 1\n",
        "\n",
        "1. First call: gcdext(2^n + 1, 2^(n-1) + 1)\n",
        "     a = 2^n + 1, b = 2^(n-1) + 1\n",
        "        gcdext(2^(n-1) + 1, (2^n + 1) % (2^(n-1) + 1))\n",
        "        (2^n + 1) % (2^(n-1) + 1)  =>  2^(n-1)\n",
        "\n",
        "2. Second call: gcdext(2^(n-1) + 1, 2^(n-1))\n",
        "     a = 2^(n-1) + 1, b = 2^(n-1)\n",
        "       gcdext(2^(n-1), (2^(n-1) + 1) % 2^(n-1))\n",
        "       (2^(n-1) + 1) % 2^(n-1)  => 1\n",
        "\n",
        "3. Third call: gcdext(2^(n-1), 1)\n",
        "    a = 2^(n-1), b = 1\n",
        "        gcdext(1, 2^(n-1) % 1)   =>  gcdext(1,0)\n",
        "\n",
        "4. Fourth call: gcdext (1,0)\n",
        "     a = 1, b = 0   =>  (1, 0, 1)\n",
        "\n",
        "\tIn Returning:\n",
        "\n",
        "3. Third call return:\n",
        "    (y1,x1-a//b*y1, d) => (0, 1-2^(n-1)//1*0, 1) => (0,1,1)\n",
        "\n",
        "2. Second call return:\n",
        "    * (y1,x1-a//b*y1, d) => (1, 0-(2^(n-1) + 1)//2^(n-1)*1, 1)  =>  (1,-1,1)\n",
        "\n",
        "1. First call return:\n",
        "    * (y1,x1-a//b*y1, d)  =>  (-1, 1-(2^n + 1)//(2^(n-1) + 1)*(-1), 1)  =>  (-1,2,1)\n",
        "\n",
        "Final output is (-1,2,1).\n"
      ],
      "metadata": {
        "id": "64Kug6xvkMj2"
      }
    },
    {
      "cell_type": "markdown",
      "source": [
        "(c) Exhibit a specific input pair (a, b) for which extended-Euclid will make at least 100 recursive calls to compute the output with the additional condition that a and b can’t have more than 25 digits. (Hint: You may find some help with a homework problem.) Prove that your answer is correct. (You can run a program or provide a mathematical proof.)\n",
        "\n",
        "- A key idea is to use the fact that when using the Euclidean algorithm on two consecutive fibonacci numbers, fib(n) and fib(n-1), the first reduction is always to fib(n-2). Clearly stated: fib(n) % fib(n-1) = fib(n-2)   thus making it a worst case scenario situation regarding the extGcd algorithm because the numbers are decreasing at the slowest rate possible. By choosing  a = fib(100) and b = fib(101) this will in turn need to perform 101 recursive calls (including the initial call). This can be demonstrated by this simple algorithm to count the number of recursive calls using these parameters.\n",
        "\n",
        "ANS: a = fib(100) and b = fib(101) (which are both less than 25 digits long)\n"
      ],
      "metadata": {
        "id": "1atGMdrPkO0j"
      }
    },
    {
      "cell_type": "code",
      "source": [
        "def fib(n):\n",
        "  if n == 0:\n",
        "      return 0\n",
        "  f = [x for x in range(n+1)]\n",
        "  f[0] = 0\n",
        "  f[1] = 1\n",
        "  for i in range(2,n+1):\n",
        "      f[i] = f[i-1] + f[i-2]\n",
        "  return f[n]\n",
        "\n",
        "\n",
        "rec_calls_count = 0\n",
        "def extended_gcd_count(a, b):\n",
        "    global rec_calls_count\n",
        "    rec_calls_count += 1\n",
        "    if b == 0:\n",
        "        return (a, 1, 0)\n",
        "    else:\n",
        "        (d, x, y) = extended_gcd_count(b, a % b)\n",
        "        return (d, y, x - (a // b) * y)\n",
        "\n",
        "extended_gcd_count(fib(100), fib(101))\n",
        "print(rec_calls_count)"
      ],
      "metadata": {
        "colab": {
          "base_uri": "https://localhost:8080/"
        },
        "id": "I32Wl85gk2v9",
        "outputId": "12c27836-586e-40b0-9671-324edab88f99"
      },
      "execution_count": null,
      "outputs": [
        {
          "output_type": "stream",
          "name": "stdout",
          "text": [
            "101\n"
          ]
        }
      ]
    },
    {
      "cell_type": "markdown",
      "source": [
        "# Problem 4\n",
        "- Write a function Error-Prob3 that takes as input an integer N and k and outputs the exact error probability associated with the modified primality algorithm implemented in project 1. The idea is as follows: Given as input an integer N and confidence parameter k, first test if N is divisible by 2, 3, 5, 7 or 11. If it is divisible by any of these numbers output(no); else call primality2 (Figure 1.8, page 27) with N and k as inputs. (This in turn calls primality algorithm (Figure 1.7) that randomly chooses a (where 1 < a < N) and tests if a N−1 ≡ 1(mod N) and repeats it k times.) Note that the primality algorithm in Figure 1.7 chooses an a < N which includes the choice of a = 1. For this problem, we will exclude 1 and assume 1 < a < N.\n",
        "\n",
        "- Your submission shall include the code for Error-Prob3 as well as the output probabilities for the inputs 1801,\n",
        "2046 and 9571, with k = 4 in all cases.\n",
        "\n",
        "- Note that 2 is also included in the above divisibility test since the primality test allows generation of an even number for a. (But I excluded it in the project since our random number generator excluded odd numbers.)\n"
      ],
      "metadata": {
        "id": "jjBWPc_Nk805"
      }
    },
    {
      "cell_type": "code",
      "source": [
        "def Error_Prob3(N, k):\n",
        "    # First check If N is divisible by any of 2, 3, 5, 7, or 11, then error probability is 0.\n",
        "    for prime in [2, 3, 5, 7, 11]:\n",
        "        if N % prime == 0:\n",
        "            return 0\n",
        "\n",
        "    # Count the number of 'a' for which N appears prime\n",
        "    count = sum([1 for a in range(2, N) if pow(a, N-1, N) == 1])\n",
        "\n",
        "    # Calculate error probability for one loop\n",
        "    error_prob_one_loop= count / (N-1)\n",
        "\n",
        "    # Calculate error probability for k loops\n",
        "    error_prob_k = error_prob_one_loop\n",
        "\n",
        "    return error_prob_k\n",
        "\n",
        "# Test for given inputs, make k = 4\n",
        "for n in [1801, 2046, 9571]:\n",
        "    print(f\"Error probability for N={n}: {Error_Prob3(n, 4)}\")\n"
      ],
      "metadata": {
        "colab": {
          "base_uri": "https://localhost:8080/"
        },
        "id": "Elbm0LIklFAC",
        "outputId": "d104354b-89fc-43cf-f446-9b730742f64b"
      },
      "execution_count": null,
      "outputs": [
        {
          "output_type": "stream",
          "name": "stdout",
          "text": [
            "Error probability for N=1801: 0.9994444444444445\n",
            "Error probability for N=2046: 0\n",
            "Error probability for N=9571: 0.00031347962382445143\n"
          ]
        }
      ]
    },
    {
      "cell_type": "markdown",
      "source": [
        "- Explanation: This function is used to find the probability that a composite number N would mistakenly appear as prime after performing the test k times. Just as in the project, we first eliminate numbers that are divisible by small primes: 2, 3, 5, 7, and 11.\n",
        "- If N is divisible by any of these primes, it's not prime. In these cases the function returns an error probability of 0 since the number will be correctly identified as composite such as 2048 because it is divisible by 2 and thus return a 0.\n",
        "- We can loop  through every possible ‘a’ in the range (2, N) and count how many of these values make N appear prime by satisfying the condition and the function checks this by computing an-1 mod N == 1 for each. To find the error probability for a single loop/test the function gets the fraction of ‘a’ values that make N appear prime out of the possible N-1 values.\n",
        "- If this fraction is high, it means there are many numbers ‘a’ which would incorrectly verify N as a prime. After using the test k times, the error probability ‘a’ is obtained by raising the single iteration error probability to the power of k. It is staggering how high the probability (almost 99.78%) of falsely identifying 1801 is as a prime for any single iteration of the Fermat primality test.\n",
        "- However, even though there is this high of an error probability the more times you run the test (i.e., with different random values of a), the more the error will decrease and it should be noted that if given a high enough k value the chance of a false prime identification would be significantly lower."
      ],
      "metadata": {
        "id": "B3EPFq6rllhQ"
      }
    },
    {
      "cell_type": "markdown",
      "source": [
        "# Problem 5\n",
        "- Show the steps involved when Karatsuba’s (divide and conquer based multiplication) algorithm is run with inputs x = 52 and y = 69. Start with 8-bit binary representations of x and y. Exhibit the inputs to the three subproblems generated. Assuming that the correct outputs for these three subproblems are returned by the calls, show the combining step that uses the outputs of the three recursive calls and exhibit the final output. Your final answer should be a 16-bit representation of the product x y. (Show all the computations in binary.)\n",
        "\n",
        "- X = 00110100  (52)\n",
        "- Y = 01000101  (69)\n",
        "- Xh = 0011  (3)    Xl = 0100  (4)   Yh = 0100  (4)   Yl = 0101 (5)\n",
        "\n",
        "- P1 = Xh  * Yh = 0011 * 0100 = 1100       (12)\n",
        "- P2 = Xl  * Yl  = 0100 * 0101 = 10100     (20)\n",
        "- P3 = (Xh  + Xl) * (Yh  * Yl ) = (0011 + 0100) * (0100 + 0101) = 0111 * - 1001 = 111111    (63)\n",
        "\n",
        "- Result = P1 * 28  + (P3 - P1 - P2) * 24 + P2\n",
        "- (P3 - P1 - P2) = 111111 − 1100 = 110011 - 10100 = 11111  (63 - 20 - 12 = 31)\n",
        "- Substitute back in:\n",
        "- 110000000000 + 111110000 + 10100 = 0000111000000100 (52 * 69 = 3588)\n",
        "\n",
        "ANS: 0000111000000100\n"
      ],
      "metadata": {
        "id": "5MjZXh_vl4rn"
      }
    },
    {
      "cell_type": "markdown",
      "source": [
        "# Problem 6:\n",
        "- Consider the following modular exponentiation algorithm:\n"
      ],
      "metadata": {
        "id": "dDkDqkO1mIXD"
      }
    },
    {
      "cell_type": "code",
      "source": [
        "def modexp(x,y,N):\n",
        "  \"\"\" Input:  Two n-bit integers x and N, an integer exponent y\n",
        "      Output: x^y mod N\n",
        "  \"\"\"\n",
        "  if y == 0:\n",
        "      return 1\n",
        "  z = modexp(x, y//2, N)\n",
        "  if y % 2 == 0:\n",
        "      return (z * z) % N\n",
        "  else:\n",
        "      return (x * z * z) % N"
      ],
      "metadata": {
        "id": "jd62_mbomNZA"
      },
      "execution_count": null,
      "outputs": []
    },
    {
      "cell_type": "markdown",
      "source": [
        "(a) What is the number of mod operations performed by this algorithm on the input and\n",
        "x =72, y = 29 amd N = 1321 ?\n",
        "\n",
        "- For y = 29:\n",
        "y is odd, so it'll take the path return (x * z * z) % N.     => 1 Mod Operation\n",
        "It also calls  modexp(x, y//2, N),  =>  modexp(72, 14, 1321).\n",
        "\n",
        "- For y = 14:\n",
        "y is even, so it'll take the path return (z * z) % N.      => 1 Mod Operation\n",
        "It also calls modexp(x, y//2, N),   =>  modexp(72, 7, 1321).\n",
        "\n",
        "- For y = 7:\n",
        "y is odd, so it'll take the path return (x * z * z) % N.     => 1 Mod Operation\n",
        "It also calls modexp(x, y//2, N),   =>   modexp(72, 3, 1321).\n",
        "\n",
        "- For y = 3:\n",
        "y is odd, so it'll take the path return (x * z * z) % N.     => 1 Mod Operation\n",
        "It also calls modexp(x, y//2, N),  =>   modexp(72, 1, 1321).\n",
        "\n",
        "- For y = 1:\n",
        "y is odd, so it'll take the path return (x * z * z) % N.     => 1 Mod Operation\n",
        "It also calls modexp(x, y//2, N),   =>   modexp(72, 0, 1321).\n",
        "\n",
        "- For y = 0:\n",
        "The function just returns 1 without any mod operation.\n",
        "\n",
        "- So, counting the mod operations for each of the above steps:\n",
        "1 + 1 + 1 + 1 + 1 = 5\n",
        "\n",
        "ANS: 5 mod operations\n"
      ],
      "metadata": {
        "id": "GZxJFpZ9mRzI"
      }
    },
    {
      "cell_type": "markdown",
      "source": [
        "(b) What is the number of multiplications performed on the input ?(Note that z2 mod n involves one multiplication and x * z2) involves two multiplications.\n",
        "\n",
        "For even y: (z * z) = 1\n",
        "For odd y: (x * z * z) = 2\n",
        "\n",
        "- For y = 29 (odd)   => 2 Multiplications\n",
        "modexp(72, 14, 1321).\n",
        "\n",
        "- For y = 14 (even)  => 1 Multiplication\n",
        "modexp(72, 7, 1321).\n",
        "\n",
        "- For y = 7 (odd)  => 2 Multiplications\n",
        "modexp(72, 3, 1321).\n",
        "\n",
        "- For y = 3 (odd)  => 2 Multiplications\n",
        "modexp(72, 1, 1321).\n",
        "\n",
        "- For y = 1 (odd)    => 2 Multiplications\n",
        "modexp(72, 0, 1321).\n",
        "\n",
        "- For y = 0:\n",
        "The function just returns 1 without any multiplication.\n",
        "\n",
        "- Adding up the multiplications for each of the above steps:\n",
        "2 + 1 + 2 + 2 + 2 = 9\n",
        "\n",
        "ANS: 9 mod operations\n"
      ],
      "metadata": {
        "id": "s6nDWz01mbZU"
      }
    },
    {
      "cell_type": "markdown",
      "source": [
        "(c) Among the n-bit integers, which input invokes the maximum number of mod operations? Which input invokes the least number of MOD operations? What are the number of multiplications in these two cases?\n",
        "\n",
        "The number of operations depends on how many times the exponent `y` can be halved before reaching 0.\n",
        "\n",
        "1. Maximum number of mod operations:\n",
        "This will occur for the largest `y`, which is (2^n - 1), since it's an n-bit integer where all bits are set to 1. This is because the largest number of recursive calls are made when `y` is odd in each recursion (as even `y` would halve more quickly). For a number with all bits set to 1, it will result in the most recursive calls.\n",
        "   \n",
        "Number of multiplications:\n",
        "Since (2^n - 1) is odd, every recursive call results in 2 multiplications. The depth of recursion is `n`, and thus there will be (2n) multiplications.\n",
        "\n",
        "2. Least number of mod operations:\n",
        "This will occur for the smallest non-zero `y`, which is 1, since this directly leads to just   one recursive call (with `y=0`) and no further recursive calls.\n",
        "\n",
        "Number of multiplications:\n",
        "For `y=1`, there's only one recursive call leading to `y=0`. In this case, there are 2    multiplications for the base case when `y=1`.\n"
      ],
      "metadata": {
        "id": "V2o3vbPlmkN6"
      }
    },
    {
      "cell_type": "markdown",
      "source": [
        "(d) (This question is not related to the modexp algorithm) Let N = 101^4 . How many integers a, 1 < a < N have inverses modulo N ?\n",
        "\n",
        "- An integer ‘a’a has a modular inverse modulo N if and only is gcd(a, N) = 1 (Basically ‘a’ Has an inverse modulo N if and only if ‘a’a is relatively prime to N. To count the number of integers less than N that are coprime to N, you can use the Euler's totient function where pk = pk - pk-1 and therefore (1014) = 1014 - 1013\n",
        "This results in 103050100\n"
      ],
      "metadata": {
        "id": "a43rpu8CmrLk"
      }
    }
  ]
}