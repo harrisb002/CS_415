{
  "nbformat": 4,
  "nbformat_minor": 0,
  "metadata": {
    "colab": {
      "provenance": [],
      "include_colab_link": true
    },
    "kernelspec": {
      "name": "python3",
      "display_name": "Python 3"
    },
    "language_info": {
      "name": "python"
    }
  },
  "cells": [
    {
      "cell_type": "markdown",
      "metadata": {
        "id": "view-in-github",
        "colab_type": "text"
      },
      "source": [
        "<a href=\"https://colab.research.google.com/github/harrisb002/CS_415/blob/Quiz_3_Notes/BensQuizReview_3.ipynb\" target=\"_parent\"><img src=\"https://colab.research.google.com/assets/colab-badge.svg\" alt=\"Open In Colab\"/></a>"
      ]
    },
    {
      "cell_type": "markdown",
      "source": [
        "#Question 1\n",
        "\n",
        "- We want to find out for how many values of  a  (where  (1 < a < N )) is  (a^{N-1} ) ≡  (1   (mod   N) ).\n",
        "\n",
        "#Fermat's Little Theorem, which states:\n",
        "- If p is a prime number and a is an integer not divisible by  p, then  a^{p-1} ) is ≡ 1(mod   p).\n",
        "\n",
        "#a) N = 6\n",
        "\n",
        "- 6 is not a prime number, so Fermat's Little Theorem doesn't directly apply.\n",
        " Instead, we will have to use Euler's totient function, which can provide a more general solution than Fermat's Little Theorem for numbers that are not prime.\n",
        "\n",
        "#Euler's Totient Theorem states:\n",
        "- If ‘N’ and ‘a’ are coprime i.e. gcd((N, a)) = 1, then:  a^{phi(N)} equiv 1(mod  N)\n",
        "\n",
        "- Where phi(N) is the Euler's totient function, which gives the number of integers from 1 to N that are coprime to N.\n",
        "\n",
        "- To determine the numbers less than (N = 6) that are coprime to 6, we need to find numbers that have a greatest common divisor (gcd) of 1 with 6. Being coprime (or relatively prime) means two numbers have no common positive factors other than 1.\n",
        "\n",
        "Let's determine the gcd for each number less than 6 with 6:\n",
        "2. (gcd(2,6) = 2)\n",
        "   - 2 is not coprime to 6 because they share the common factor of 2.\n",
        "   \n",
        "3. (gcd(3,6) = 3)\n",
        "   - 3 is not coprime to 6 because they share the common factor of 3.\n",
        "   \n",
        "4. (gcd(4,6) = 2)\n",
        "   - 4 is not coprime to 6 because they share the common factor of 2.\n",
        "   \n",
        "5. (gcd(5,6) = 1)\n",
        "   - 5 is coprime to 6 because the only positive integer that divides both of them is 1.\n",
        "From the above examination, the numbers less than 6 that are coprime to 6 are 1 and 5.\n",
        "\n",
        "Thus, for ( N = 6 ), there  is only 1 value of a that meets the condition a = 5\n",
        "For none of these values is  (a^{N-1} ) ≡  1 (mod N) .\n",
        "\n",
        "- Therefore, the answer for  (N = 6 ) is 1 value of  ‘a’.\n",
        "\n",
        "#b) N = 101\n",
        "- 101 is a prime number. Therefore, Fermat's Little Theorem applies directly. It tells us that for all a not divisible by 101 (which covers our range  (1 < a < 101 )),  (a^{100} ) will be ≡  1(mod   101).\n",
        "\n",
        "- We don't need to test every number from 2 to 100 because Fermat's Little Theorem has already proven this for us. The number of values of ‘a’ between 1 and 101 (exclusive) is 101 - 2 = 99.\n",
        "- Therefore, the answer is 99 values of ‘a’."
      ],
      "metadata": {
        "id": "jBZnf9vDlSLf"
      }
    },
    {
      "cell_type": "markdown",
      "source": [
        "#Question 2\n",
        "- Karatsuba multiplication for the provided numbers:\n",
        "\n",
        "- Given: x=101011  y=110100\n",
        "\n",
        "- We'll split the binary numbers into two halves. Since x and y are 6-bit numbers,they will be 3-bits each:\n",
        "a=101  b=011  c=110  d=100\n",
        "\n",
        "- ac = 101 x 110 = 11110\n",
        "- bd = 011 x 100 = 11000\n",
        "- (a + b) (c + d) = (101 + 011) x (110 + 100) = 1010000\n",
        "- (a + b) (c + d) - ac - bd = 100010\n",
        "\n",
        "- Combine results into the algorithm:\n",
        "- (x)(y) = ac x 2^6 + (ad + bc) x 2^3 + bd\n",
        "- (x)(y) = 11110 x 2^6 + 100010  x 2^3 + 011000\n",
        "- (x)(y) = 1111000000 + 100010000 + 011000 = 1001111000"
      ],
      "metadata": {
        "id": "CRj667iUlcbE"
      }
    },
    {
      "cell_type": "markdown",
      "source": [
        "# Question 3\n",
        "- Is 4^1536 - 9^4824 divisible by 35?\n",
        "# Fermat's little theorem states:\n",
        "-  If p is a prime and a is an integer not divisible by p, then:\n",
        "a^p-1 ≡ (1 mod p)\n",
        "\n",
        "Using this theorem, we can determine the remainder when 4^1536  and 9^4824 are divided by 5 and 7. To check divisibility by 35, as mentioned, we need to check divisibility by both 5 and 7.\n",
        "\n",
        "First check divisibility by 5\n",
        "- 4^1536\n",
        "\n",
        "Using Fermat's theorem, with p=5:\n",
        "- 4^4 ≡ 1 mod 5\n",
        "- 4^4 ≡ (4^4)^384 ≡ 1^384 ≡ 1 mod 5 (Therefore True)\n",
        "- 9^4824\n",
        "- 9^4 ≡ 6561 ≡  1 mod 5\n",
        "- 9^4824 ≡  (9^4)1206 ≡  1^1206 ≡  1 mod 5 (Therefore True)\n",
        "\n",
        "Now check divisibility by 7\n",
        "- 4^1536\n",
        "\n",
        "Using Fermat's theorem, with p=7:\n",
        "- 4^6 ≡ 1 mod 7\n",
        "- 4^1536 ≡ (4^6)^256 ≡ 1^256 ≡ 1 mod 7 (Therefore True)\n",
        "- 9^4824\n",
        "- 9^6  ≡  1 mod 7\n",
        "- 9^4824 ≡  (9^6)804 ≡  1^804 ≡  1 mod 7 (Therefore True)\n",
        "\n",
        "- Therefore True"
      ],
      "metadata": {
        "id": "SSdk6t6Jlf2I"
      }
    },
    {
      "cell_type": "markdown",
      "source": [
        "#Question 4\n",
        "\n",
        "    if max1 > max2:\n",
        "        max = max1\n",
        "    else:\n",
        "        max = max2\n",
        "\n",
        "    if min1 < min2:\n",
        "        min = min1\n",
        "    else:\n",
        "        min = min2\n",
        "\n",
        "For every recursive call, the array is divided into two equal parts and comparisons are made. For an array of length 2, there's 1 comparison. For arrays of length greater than 2, after the division, 2 comparisons are needed (one for max and one for min).\n",
        "\n",
        "Thus, the recurrence relation is: T(n) = 2T(n/2) + 2 with the base case: T(2) = 1\n",
        "\n",
        "To find T(16):\n",
        "T(16) = 2T(8) + 2\n",
        "T(8) = 2T(4) + 2\n",
        "T(4) = 2T(2) + 2\n",
        "T(2) = 1\n",
        "\n",
        "Therefore,\n",
        "T(4) = 2(1) + 2 = 4\n",
        "T(8) = 2(4) + 2 = 10\n",
        "T(16) = 2(10) + 2 = 22\n",
        "\n",
        "Thus, T(16) = 22 comparisons for n = 16"
      ],
      "metadata": {
        "id": "VBzkGY5Oljma"
      }
    }
  ]
}