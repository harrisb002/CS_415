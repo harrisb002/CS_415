{
  "cells": [
    {
      "cell_type": "markdown",
      "metadata": {
        "id": "view-in-github",
        "colab_type": "text"
      },
      "source": [
        "<a href=\"https://colab.research.google.com/github/harrisb002/CS_415/blob/Hw1/problem2.ipynb\" target=\"_parent\"><img src=\"https://colab.research.google.com/assets/colab-badge.svg\" alt=\"Open In Colab\"/></a>"
      ]
    },
    {
      "cell_type": "markdown",
      "source": [
        "Problem 1.3 => Pg.50 in text\n",
        "---\n",
        "A positive integer N is a power if it is of the form q^k, where q, k are positive integers and k > 1.\n",
        "> (a) Give an efficient algorithm that takes as input a number N and determines\n",
        "whether it is a square, that is, whether it can be written as q^2 for some positive integer q. What is the running time of your algorithm?\n",
        "\n",
        "\n"
      ],
      "metadata": {
        "id": "eOuPpgNmuI9Q"
      },
      "id": "eOuPpgNmuI9Q"
    },
    {
      "cell_type": "code",
      "source": [
        "def squares(nums):\n",
        "  squares = []\n",
        "  for num in nums:\n",
        "    squares.append(num**2)\n",
        "  return squares\n",
        "\n",
        "nums = [n for n in range(2, 20, 2)]\n",
        "print(nums)\n",
        "\n",
        "squaresNums = squares(nums)\n",
        "print(squaresNums)\n",
        "\n",
        "# Poss. Implementation - credit to Joel Thomas\n",
        "def isSqrt(num):\n",
        "  if num < 0:\n",
        "      return -1\n",
        "  if num == 0:\n",
        "      return 0\n",
        "\n",
        "  z = num\n",
        "  while True:\n",
        "    s = z * z\n",
        "    if s == num:\n",
        "        return z\n",
        "    if s < num:\n",
        "        if (z + 1) * (z + 1) > num: # check to see if the sqr of z > num\n",
        "            return -1\n",
        "        z += 1\n",
        "    else:\n",
        "        z //= 2\n",
        "\n",
        "ans = isSqrt(4)\n",
        "\n",
        "print(ans)\n"
      ],
      "metadata": {
        "colab": {
          "base_uri": "https://localhost:8080/"
        },
        "id": "j_gbyP6QsCMk",
        "outputId": "28fa9027-e89f-4bd1-bb40-b174408ffc8c"
      },
      "id": "j_gbyP6QsCMk",
      "execution_count": 4,
      "outputs": [
        {
          "output_type": "stream",
          "name": "stdout",
          "text": [
            "[2, 4, 6, 8, 10, 12, 14, 16, 18]\n",
            "[4, 16, 36, 64, 100, 144, 196, 256, 324]\n",
            "2\n"
          ]
        }
      ]
    },
    {
      "cell_type": "markdown",
      "source": [
        "Description of Alg. for another poss. implmentation for Problem 1.3\n",
        "---\n",
        "\n",
        "Init. two pts, left and right, to 1 and N.\n",
        "\n",
        "Taken from Binary search Alg by constantly dividing in half, starting with a range of pos. sqr roots for N (from 1 to N), and at each step, calculate the sqr of the mid value and compare it to N.\n",
        "\n",
        "Repeat steps while left is less than or equal to right:\n",
        "a. Compute the middle value mid as the average of left and right (mid = (left + right) / 2).\n",
        "\n",
        "b. Calc. mid_sqr as mid * mid.\n",
        "\n",
        "c. If mid_sqr = N, return True because N is a sqr, and you have found q^2 = N.\n",
        "\n",
        "d. If mid_sqr < N, update left to mid + 1.\n",
        "\n",
        "e. If mid_sqr >  N, update right to mid - 1.\n",
        "\n",
        "If the loop exits w/out finding a perfect sqr, return False because N is not a sqr.\n",
        "\n",
        "Note: Due to the nature of halving, complexity is that of Bin Search = Olog(n)"
      ],
      "metadata": {
        "id": "Nbu4CuPHMdWe"
      },
      "id": "Nbu4CuPHMdWe"
    },
    {
      "cell_type": "code",
      "source": [
        "def is_sqr(N):\n",
        "  left, right = 1, N # Resp. init\n",
        "\n",
        "  while left <= right:\n",
        "      mid = (left + right) // 2 # Half for first possible sqr\n",
        "      mid_sqr = mid * mid # Init first poss sqr\n",
        "\n",
        "      if mid_sqr == N: # Found sqr\n",
        "          return mid\n",
        "      elif mid_sqr < N: # mid too low\n",
        "          left = mid + 1\n",
        "      else:\n",
        "          right = mid - 1 # mid too high\n",
        "\n",
        "  return -1\n",
        "\n",
        "ans = is_sqr(9)\n",
        "\n",
        "print(ans)"
      ],
      "metadata": {
        "id": "ad6T1fL8K8PB"
      },
      "id": "ad6T1fL8K8PB",
      "execution_count": null,
      "outputs": []
    }
  ],
  "metadata": {
    "kernelspec": {
      "display_name": "Python 3 (ipykernel)",
      "language": "python",
      "name": "python3"
    },
    "language_info": {
      "codemirror_mode": {
        "name": "ipython",
        "version": 3
      },
      "file_extension": ".py",
      "mimetype": "text/x-python",
      "name": "python",
      "nbconvert_exporter": "python",
      "pygments_lexer": "ipython3",
      "version": "3.10.12"
    },
    "colab": {
      "provenance": [],
      "toc_visible": true,
      "include_colab_link": true
    }
  },
  "nbformat": 4,
  "nbformat_minor": 5
}