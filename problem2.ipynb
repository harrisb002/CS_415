{
  "cells": [
    {
      "cell_type": "markdown",
      "metadata": {
        "id": "view-in-github",
        "colab_type": "text"
      },
      "source": [
        "<a href=\"https://colab.research.google.com/github/harrisb002/CS_415/blob/HW_1/problem2.ipynb\" target=\"_parent\"><img src=\"https://colab.research.google.com/assets/colab-badge.svg\" alt=\"Open In Colab\"/></a>"
      ]
    },
    {
      "cell_type": "markdown",
      "source": [
        "Problem 1.3\n",
        "---\n",
        "A positive integer N is a power if it is of the form qk, where q, k are positive integers and k > 1.\n",
        "> (a) Give an efficient algorithm that takes as input a number N and determines\n",
        "whether it is a square, that is, whether it can be written as q2 for some positive integer q. What is the running time of your algorithm?\n",
        "\n",
        "\n"
      ],
      "metadata": {
        "id": "eOuPpgNmuI9Q"
      },
      "id": "eOuPpgNmuI9Q"
    },
    {
      "cell_type": "code",
      "source": [
        "def squares(nums):\n",
        "  squares = []\n",
        "  for num in nums:\n",
        "    squares.append(num**2)\n",
        "  return squares\n",
        "\n",
        "nums = [n for n in range(2, 20, 2)]\n",
        "print(nums)\n",
        "\n",
        "squaresNums = squares(nums)\n",
        "print(squaresNums)"
      ],
      "metadata": {
        "colab": {
          "base_uri": "https://localhost:8080/"
        },
        "id": "j_gbyP6QsCMk",
        "outputId": "5beb44db-aaff-4bd6-b207-61cacd1354c3"
      },
      "id": "j_gbyP6QsCMk",
      "execution_count": 5,
      "outputs": [
        {
          "output_type": "stream",
          "name": "stdout",
          "text": [
            "[2, 4, 6, 8, 10, 12, 14, 16, 18]\n",
            "[4, 16, 36, 64, 100, 144, 196, 256, 324]\n"
          ]
        }
      ]
    }
  ],
  "metadata": {
    "kernelspec": {
      "display_name": "Python 3 (ipykernel)",
      "language": "python",
      "name": "python3"
    },
    "language_info": {
      "codemirror_mode": {
        "name": "ipython",
        "version": 3
      },
      "file_extension": ".py",
      "mimetype": "text/x-python",
      "name": "python",
      "nbconvert_exporter": "python",
      "pygments_lexer": "ipython3",
      "version": "3.10.12"
    },
    "colab": {
      "provenance": [],
      "include_colab_link": true
    }
  },
  "nbformat": 4,
  "nbformat_minor": 5
}