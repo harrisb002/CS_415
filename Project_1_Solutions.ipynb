{
  "nbformat": 4,
  "nbformat_minor": 0,
  "metadata": {
    "colab": {
      "provenance": [],
      "authorship_tag": "ABX9TyOQwd+5mOhjNS8TCOcPatJA",
      "include_colab_link": true
    },
    "kernelspec": {
      "name": "python3",
      "display_name": "Python 3"
    },
    "language_info": {
      "name": "python"
    }
  },
  "cells": [
    {
      "cell_type": "markdown",
      "metadata": {
        "id": "view-in-github",
        "colab_type": "text"
      },
      "source": [
        "<a href=\"https://colab.research.google.com/github/harrisb002/CS_415/blob/Project-1/Project_1_Solutions.ipynb\" target=\"_parent\"><img src=\"https://colab.research.google.com/assets/colab-badge.svg\" alt=\"Open In Colab\"/></a>"
      ]
    },
    {
      "cell_type": "markdown",
      "source": [
        "# Problem 1:\n",
        "- Write functions for all the arithmetic operations addition, subtraction,\n",
        " multiplication and division involving fractions.\n",
        " - The fraction p q will be represented as a pair of integers (p,q) where p is the numerator and q is the denominator.\n",
        " - To keep the representation of the fraction efficient, we will make sure that gcd(p, q) = 1.\n",
        " - Thus (14, 32) is not a valid representation of a fraction since the correct representation is (7, 16).\n",
        " - You should also write functions equal and less than that"
      ],
      "metadata": {
        "id": "VbmOq0KzOavm"
      }
    },
    {
      "cell_type": "code",
      "source": [
        "def add_fractions(frac1, frac2):\n",
        "    n1, d1 = frac1\n",
        "    n2, d2 = frac2\n",
        "\n",
        "    # To add: (n1/d1) + (n2/d2) = (n1*d2 + n2*d1) / (d1*d2)\n",
        "    numerator = n1 * d2 + n2 * d1\n",
        "    denominator = d1 * d2\n",
        "\n",
        "    return simplify_fraction(numerator, denominator)"
      ],
      "metadata": {
        "id": "pdm0A5M2O4Nv"
      },
      "execution_count": null,
      "outputs": []
    },
    {
      "cell_type": "code",
      "source": [
        "def subtract_fractions(frac1, frac2):\n",
        "    n1, d1 = frac1\n",
        "    n2, d2 = frac2\n",
        "\n",
        "    # To subtract: (n1/d1) - (n2/d2) = (n1*d2 - n2*d1) / (d1*d2)\n",
        "    numerator = n1 * d2 - n2 * d1\n",
        "    denominator = d1 * d2\n",
        "\n",
        "    return simplify_fraction(numerator, denominator)"
      ],
      "metadata": {
        "id": "ahMLPd02PD0B"
      },
      "execution_count": null,
      "outputs": []
    },
    {
      "cell_type": "code",
      "source": [
        "def multiply_fractions(frac1, frac2):\n",
        "    n1, d1 = frac1\n",
        "    n2, d2 = frac2\n",
        "\n",
        "    # To multiply: (n1/d1) * (n2/d2) = (n1*n2) / (d1*d2)\n",
        "    numerator = n1 * n2\n",
        "    denominator = d1 * d2\n",
        "\n",
        "    return simplify_fraction(numerator, denominator)"
      ],
      "metadata": {
        "id": "cfYjdKzsPNBm"
      },
      "execution_count": null,
      "outputs": []
    },
    {
      "cell_type": "code",
      "source": [
        "def divide_fractions(frac1, frac2):\n",
        "    n1, d1 = frac1\n",
        "    n2, d2 = frac2\n",
        "\n",
        "    # To divide: (n1/d1) / (n2/d2) = (n1*d2) / (d1*n2)\n",
        "    numerator = n1 * d2\n",
        "    denominator = d1 * n2\n",
        "\n",
        "    return simplify_fraction(numerator, denominator)"
      ],
      "metadata": {
        "id": "YB_wUT1iPOrO"
      },
      "execution_count": null,
      "outputs": []
    },
    {
      "cell_type": "code",
      "source": [
        "def gcd(a, b):\n",
        "    while b:\n",
        "        a, b = b, a % b\n",
        "    return a"
      ],
      "metadata": {
        "id": "_YpXgW_6PRce"
      },
      "execution_count": null,
      "outputs": []
    },
    {
      "cell_type": "code",
      "source": [
        "def simplify_fraction(n, d):\n",
        "    common_factor = gcd(n, d)\n",
        "    return n // common_factor, d // common_factor"
      ],
      "metadata": {
        "id": "UXR1694UPS7r"
      },
      "execution_count": null,
      "outputs": []
    },
    {
      "cell_type": "code",
      "source": [
        "# Return true if the first argument is equal to (less than) the second argument.\n",
        "def equal(frac1, frac2):\n",
        "    p1, q1 = frac1\n",
        "    p2, q2 = frac2\n",
        "    return p1 * q2 == p2 * q1"
      ],
      "metadata": {
        "id": "tVwHD6gTPTk9"
      },
      "execution_count": null,
      "outputs": []
    },
    {
      "cell_type": "code",
      "source": [
        "def less_than(frac1, frac2):\n",
        "    p1, q1 = frac1\n",
        "    p2, q2 = frac2\n",
        "    return p1 * q2 < p2 * q1"
      ],
      "metadata": {
        "id": "46XzbIfxPW1Q"
      },
      "execution_count": null,
      "outputs": []
    },
    {
      "cell_type": "markdown",
      "source": [
        "# Problem 1a:\n",
        "- Rewrite the function hsum that takes as input a positive integer n\n",
        "  and returns the smallest j such that 1 + 1/2 + 1/3 + 1/5 +··· 1/j > n."
      ],
      "metadata": {
        "id": "veFQmExEPYma"
      }
    },
    {
      "cell_type": "code",
      "source": [
        "def hsum(n):\n",
        "    j = 1\n",
        "    total = (0, 1)  # This represents the fraction 0\n",
        "    while True:\n",
        "        total = add_fractions(total, (1, j))\n",
        "        if less_than((n, 1), total):\n",
        "            return j\n",
        "        j += 1"
      ],
      "metadata": {
        "id": "obuW37dPPcIv"
      },
      "execution_count": null,
      "outputs": []
    },
    {
      "cell_type": "markdown",
      "source": [
        "# Problem 1b:\n",
        "- Write a function Fibonacci that takes as input a positive integer n\n",
        "  and returns the Fn.\n",
        " - We define Fn in the usual way, namely Fm = Fm−1 + Fm−2 with one change:\n",
        " - The first two values of the sequence are F0 = 1/2 and F1 = 1/3.\n",
        " - Thus, fib(0) = 1/2, fib(1) = 1/3, fib(2) = 5/6, fib(3) = 7/6 ..."
      ],
      "metadata": {
        "id": "0vg1eYugPhkW"
      }
    },
    {
      "cell_type": "code",
      "source": [
        "def fib(n):\n",
        "    if n == 0:\n",
        "        return (1, 2)\n",
        "    if n == 1:\n",
        "        return (1, 3)\n",
        "\n",
        "    prev = (1, 2)\n",
        "    curr = (1, 3)\n",
        "\n",
        "    for i in range(2, n + 1):\n",
        "        next_val = add_fractions(prev, curr)\n",
        "        prev, curr = curr, next_val\n",
        "    return curr"
      ],
      "metadata": {
        "id": "LQxFGbS3Pq2a"
      },
      "execution_count": null,
      "outputs": []
    },
    {
      "cell_type": "markdown",
      "source": [
        "# PROBLEM 2:\n",
        "- The goal of this problem is to implement a modified primality test primality 3:\n",
        " - Given as input an integer N and confidence parameter k, first test if N is\n",
        "   divisible by 3, 5, 7 or 11.\n",
        " - If it is divisible by any of these numbers output(”no”); else call primality2 with N and k as inputs.\n",
        " - (This in turn calls primality algorithm that randomly chooses a (where 1 < a < N) and tests if aN−1 ≡ 1(mod N) and repeats it k times to reduce the probability of error to 2−k.)"
      ],
      "metadata": {
        "id": "6n-x2VevPtUL"
      }
    },
    {
      "cell_type": "code",
      "source": [
        "def is_div_by_primes(n):\n",
        "    \"\"\"\n",
        "    Check if n is divisible by any of 3, 5, 7, or 11. (reduces the # of calls needed to find prime)\n",
        "    \"\"\"\n",
        "    for prime in [3, 5, 7, 11]:\n",
        "        if n % prime == 0:\n",
        "            return True\n",
        "    return False"
      ],
      "metadata": {
        "id": "InU3KBhKP2ud"
      },
      "execution_count": null,
      "outputs": []
    },
    {
      "cell_type": "code",
      "source": [
        "def primality(N, a):\n",
        "    \"\"\"\n",
        "    Perform the primality test for a specific value of a.\n",
        "    \"\"\"\n",
        "    # Test if a^(N-1) is congruent to 1 mod N\n",
        "    if pow(a, N-1, N) == 1:\n",
        "        return True\n",
        "    return False"
      ],
      "metadata": {
        "id": "gvMbiD5zP42R"
      },
      "execution_count": null,
      "outputs": []
    },
    {
      "cell_type": "code",
      "source": [
        "def primality2(N, k):\n",
        "    \"\"\"\n",
        "    Perform the primality test k times.\n",
        "    \"\"\"\n",
        "    for _ in range(k):\n",
        "        a = random.randint(2, N-1)\n",
        "        if not primality(N, a):\n",
        "            return \"no\"\n",
        "    return \"yes\""
      ],
      "metadata": {
        "id": "g5mJgONtP6ej"
      },
      "execution_count": null,
      "outputs": []
    },
    {
      "cell_type": "code",
      "source": [
        "# Before running the usual primality test, use this function to check if the number is divisible by the\n",
        "# small primes 3, 5, 7, or 11 using is_div_by_primes to quickly eliminate non-prime numbers.\n",
        "def primality3(N, k):\n",
        "    \"\"\"\n",
        "    First check if N is divisible by any of 3, 5, 7, or 11.\n",
        "    If so, return \"no\". Otherwise, call primality2.\n",
        "    \"\"\"\n",
        "    if is_div_by_primes(N):\n",
        "        return \"no\"\n",
        "    return primality2(N, k)"
      ],
      "metadata": {
        "id": "zxMn_nA2P8v-"
      },
      "execution_count": null,
      "outputs": []
    },
    {
      "cell_type": "markdown",
      "source": [
        "# PROBLEM 3:\n",
        "- Given integers and n anf k, generate a random prime number P with n bits with a guarantee that P is a prime with probability at least 2^-k.\n",
        " - Implement a solution as follows: generate a random n-2 binary string and add 1 as the first and the last bit to create an n bit integer and convert it to decimal.\n",
        " - The reason for the first bit to be 1 is that we want the number to be odd.- - The last bit should be 1 since we want no leading 0’s. Then, call primality3 algorithm you in implemented in Problem 2 with n and k as inputs.\n",
        " - (k is the second parameter in primality3 which is the number of times the Fermat’s test is repeated.) Repeat calling primaility3 until it outputs \"yes\". At this point, you have found a prime number (with a probability at least 2^-k)"
      ],
      "metadata": {
        "id": "d4H95KeqQABS"
      }
    },
    {
      "cell_type": "code",
      "source": [
        "# Generate a random number of 'n' bits such that the first and last bits are set to 1.\n",
        "# The reason for the first bit being 1 is to ensure the number is odd. The last bit should be 1 since we want no leading 0’s.\n",
        "def generate_random_k_bit_number(n):\n",
        "    # Generate a random string of 1's & 0's that's k-2 bits long\n",
        "    random_bits = ''.join(random.choice(['0', '1']) for _ in range(n-2))\n",
        "\n",
        "    # Make first and last bits 1's, convert string into int, and specify for base 2 instead of default 10\n",
        "    return int('1' + random_bits + '1', 2)"
      ],
      "metadata": {
        "id": "ceDUtwiqQZfc"
      },
      "execution_count": null,
      "outputs": []
    },
    {
      "cell_type": "code",
      "source": [
        "# Keep generating random n-bit numbers and test them for primality until a prime is found\n",
        "def generate_random_k_bit_prime(n, k):\n",
        "    while True:\n",
        "        possiblePrime = generate_random_k_bit_number(n)\n",
        "        if primality3(possiblePrime, k) == \"yes\":\n",
        "            return possiblePrime"
      ],
      "metadata": {
        "id": "gjzLoD-cQafP"
      },
      "execution_count": null,
      "outputs": []
    },
    {
      "cell_type": "markdown",
      "source": [
        "# PROBLEM 4:\n",
        "- Given integers n and k, call the algorithm for Problem 3 (with n and k as inputs) to generate two primes p and q with n bits each, and use them to generate the encryption keys E and the decryption key D.\n",
        "- After computing p and q, compute N = pq.\n",
        "- Then, find a random 10 bit integer E such that gcd (E, (p−1)(q−1)) = 1.\n",
        "- Next, find D such that DE ≡ 1 (mod N) using extended Euclid’s algorithm. Output N, E and D."
      ],
      "metadata": {
        "id": "ibI70fKQQcTV"
      }
    },
    {
      "cell_type": "code",
      "source": [
        "# Find/Return the greatest common divisor of the two numbers a and b, and the coefficients,\n",
        "# i.e., numbers x and y such that ax + by = gcd(a, b).\n",
        "def extended_gcd(a, b):\n",
        "    \"\"\"Return numbers x, y such that ax + by = gcd(a, b)\"\"\"\n",
        "    if a == 0:\n",
        "        return (b, 0, 1)\n",
        "    else:\n",
        "        g, x, y = extended_gcd(b % a, a)\n",
        "        return (g, y - (b // a) * x, x)"
      ],
      "metadata": {
        "id": "LVUUt9coQnO6"
      },
      "execution_count": null,
      "outputs": []
    },
    {
      "cell_type": "code",
      "source": [
        "# Uses the extended_gcd function to find the modular multiplicative inverse of a number modulo m.\n",
        "def mod_inverse(a, m):\n",
        "    \"\"\"Return the modular inverse of a mod m\"\"\"\n",
        "    g, x, y = extended_gcd(a, m)\n",
        "    if g != 1:\n",
        "        exit('Modular inverse does not exist')\n",
        "    else:\n",
        "        return x % m"
      ],
      "metadata": {
        "id": "cpXmzMLdQpFL"
      },
      "execution_count": null,
      "outputs": []
    },
    {
      "cell_type": "code",
      "source": [
        "# Used to generate random number for E\n",
        "import random\n",
        "\n",
        "# Steps involved for generate_RSA_keys:\n",
        "# Generate two n-bit prime numbers using the generate_random_k_bit_prime function.\n",
        "# Multiply the primes to get N (this is the RSA modulus).\n",
        "# Calculate the Euler's totient (or phi value) for N using the formula phi(N) = (p-1)(q-1).\n",
        "# Randomly pick an encryption key 'E' such that 1 < E < phi and gcd(E, phi) = 1.\n",
        "# Calculate the decryption key D which is the modular multiplicative inverse of E modulo phi.\n",
        "def generate_RSA_keys(n, k):\n",
        "    \"\"\"Generate RSA encryption (E) and decryption (D) keys along with modulus N\"\"\"\n",
        "\n",
        "    # Generate two n-bit primes, p and q.\n",
        "    p = generate_random_k_bit_prime(n, k)\n",
        "    q = generate_random_k_bit_prime(n, k)\n",
        "\n",
        "    # Compute N = p * q\n",
        "    N = p * q\n",
        "\n",
        "    # Compute Euler's function\n",
        "    phi = (p - 1) * (q - 1)\n",
        "\n",
        "    # Find E such that 1 < E < phi and gcd(E, phi) = 1\n",
        "    E = random.randint(1, 1023)  # 10-bit integer\n",
        "    while gcd(E, phi) != 1:\n",
        "        E = random.randint(1, 1023)\n",
        "\n",
        "    # Compute D, the modular inverse of E mod phi\n",
        "    D = mod_inverse(E, phi)\n",
        "\n",
        "    return N, E, D"
      ],
      "metadata": {
        "id": "Md9t-GmhQq1k"
      },
      "execution_count": null,
      "outputs": []
    },
    {
      "cell_type": "markdown",
      "source": [
        "# PROBLEM 5:\n",
        "- Given integers N, E, D and M where (E , D) form the RSA encyrption and the decryption keys\n",
        "- Write a function that encrypts the plain-text message M\n",
        "- Then decrypt it and print both the encrypted and the decrypted messages.\n",
        "- If everything works fine, the decrypted message must be the same as the plain-text M."
      ],
      "metadata": {
        "id": "e5baG_DWQtXY"
      }
    },
    {
      "cell_type": "code",
      "source": [
        "# Steps involved for encrypt:\n",
        "# Convert the plaintext string message M into a byte sequence. (using int.from_bytes method)\n",
        "# Convert the byte sequence into an integer representation. (using .encode('utf-8'), 'big') for big endian style\n",
        "# Use the RSA encryption formula C = M^E mod N to generate the cipher C (use Python's pow function).\n",
        "def encrypt(M, E, N):\n",
        "    \"\"\"Encrypt plain-text M using public key (E, N)\"\"\"\n",
        "    # Convert the message to a byte sequence and then to an integer\n",
        "    str_as_int = int.from_bytes(M.encode('utf-8'), 'big')\n",
        "    cipher = pow(str_as_int, E, N)\n",
        "    return cipher"
      ],
      "metadata": {
        "id": "exJH_JvNQ8FN"
      },
      "execution_count": null,
      "outputs": []
    },
    {
      "cell_type": "code",
      "source": [
        "# Use the RSA decryption formula M = C^D mod N to generate the plaintext int rep. (use Python's pow function again).\n",
        "# Convert the integer representation back into a byte sequence.\n",
        "# Convert the byte sequence back into a string using utf-8 decoding.\n",
        "def decrypt(C, D, N):\n",
        "    \"\"\"Decrypt cipher-text C using private key (D, N)\"\"\"\n",
        "    plain_int = pow(C, D, N)\n",
        "\n",
        "    # Convert the integer back to bytes\n",
        "    byte_size = (plain_int.bit_length() + 7) // 8\n",
        "    plain_bytes = plain_int.to_bytes(byte_size, 'big')\n",
        "\n",
        "    # Decode the byte sequence back to a string using utf-8\n",
        "    return plain_bytes.decode('utf-8')"
      ],
      "metadata": {
        "id": "t3N5ReC3Q-K1"
      },
      "execution_count": null,
      "outputs": []
    },
    {
      "cell_type": "code",
      "source": [
        "# Bring it all together:\n",
        "# Encrypt the provided plaintext message M using the RSA encryption function.\n",
        "# Decrypt the generated cipher using the RSA decryption function.\n",
        "# Return both the encrypted and decrypted messages.\n",
        "def rsa_encryption_decryption(N, E, D, M):\n",
        "    encrypted_msg = encrypt(M, E, N)\n",
        "    decrypted_msg = decrypt(encrypted_msg, D, N)\n",
        "\n",
        "    return encrypted_msg, decrypted_msg"
      ],
      "metadata": {
        "id": "qhQUrPZnQ_3R"
      },
      "execution_count": null,
      "outputs": []
    },
    {
      "cell_type": "markdown",
      "source": [
        "# Wrap it up:\n",
        "- Write a main function that provides the following user-interface. When your\n",
        "  program is executed,\n",
        "- It should allow the option for the user to test Problem 1a (option 1),\n",
        "  Problem 1b (option 2), Problem 2 (option 3), Problem 5 (option 4) and Qui(Option 5).\n",
        "\n",
        "- When the user enters the option 1a, 1b, 2, 3, 4 or 5, the program asks for the appropriate inputs for that problem, solves it and outputs the result.\n",
        "- It then repeats the query above until the user chooses Option 6.\n",
        "- For each of the problems, the program should prompt the user to enter the\n",
        "  appropriate input(s), then display the answer.\n",
        " - Note that the functions for Problems 3 and 4 are not directly tested.\n",
        "\n",
        "- For Problem 5 (Option 4), the user inputs are: M, an integer that forms the\n",
        "  message (or plain-text), and two integers n and k for Problem 4.\n",
        "- Your program should call the function for Problem 3 to generate two n-bit\n",
        "  prime numbers.\n",
        "- Then call the function for Problem 4 to generate E, N and D. Finally, using\n",
        "  the E, N and D, it encrypts the message M, then decrypts it and prints both the encrypted and decrypted messages.\n",
        "- Also compare D and M and output ‘yes’ if D == M, ‘no’ else."
      ],
      "metadata": {
        "id": "J_60r5SPRRU9"
      }
    },
    {
      "cell_type": "code",
      "source": [
        "def pickOption():\n",
        "    print(\"\\nChoose an option:\")\n",
        "    print(\"1: Problem 1a\")\n",
        "    print(\"2: Problem 1b\")\n",
        "    print(\"3: Problem 2\")\n",
        "    print(\"4: Problem 5\")\n",
        "    print(\"5: Quit\")\n",
        "    return input(\"Enter your choice: \")"
      ],
      "metadata": {
        "id": "cpcWGuyERFjl"
      },
      "execution_count": null,
      "outputs": []
    },
    {
      "cell_type": "code",
      "source": [
        "def options(choice):\n",
        "    if choice == \"1\":\n",
        "        n = int(input(\"Enter a positive integer n for Problem 1a: \"))\n",
        "        result = hsum(n)\n",
        "        print(f\"The smallest j such that 1 + 1/2 + 1/3 + ... + 1/j > {n} is: {result}\")\n",
        "\n",
        "    elif choice == \"2\":\n",
        "        n = int(input(\"Enter a positive integer n for Fibonacci sequence: \"))\n",
        "        result = fib(n)\n",
        "        print(f\"The Fibonacci number F({n}) is: {result[0]}/{result[1]}\")\n",
        "\n",
        "    elif choice == \"3\":\n",
        "        N = int(input(\"Enter integer N for primality test: \"))\n",
        "        k = int(input(\"Enter confidence parameter k: \"))\n",
        "        result = primality3(N, k)\n",
        "        print(result)\n",
        "\n",
        "    elif choice == \"4\":\n",
        "        msg = input(\"Enter your message (string): \")\n",
        "\n",
        "        n = int(input(\"Enter n value (for n-bit prime): \"))\n",
        "        k = int(input(\"Enter k value (for 2^-k confidence): \"))\n",
        "\n",
        "        # Generate the Primes and RSA keys\n",
        "        N, E, D = generate_RSA_keys(n, k)\n",
        "        print(f\"RSA Keys Generated! N: {N}, E: {E}, D: {D}\")\n",
        "\n",
        "        encrypted_msg, decrypted_msg = rsa_encryption_decryption(N, E, D, msg)\n",
        "\n",
        "        # Print results of de/encryption\n",
        "        print(f\"Encrypted Message: {encrypted_msg}\")\n",
        "        print(f\"Decrypted Message: {decrypted_msg}\")\n",
        "\n",
        "        # Check if the decrypted message matches the original\n",
        "        if decrypted_msg != msg:\n",
        "            print(\"Error: The decrypted message does not match the original!\")\n",
        "\n",
        "    elif choice == \"5\":\n",
        "        return 5\n",
        "\n",
        "    else:\n",
        "        print(\"Invalid choice. Please select a valid option.\")"
      ],
      "metadata": {
        "id": "5Af0WS9VRIwb"
      },
      "execution_count": null,
      "outputs": []
    },
    {
      "cell_type": "code",
      "source": [
        "def main():\n",
        "    choice = 0\n",
        "    while choice != 5:\n",
        "        choice = pickOption()\n",
        "        choice = options(choice)\n",
        "\n",
        "if __name__ == '__main__':\n",
        "    main()"
      ],
      "metadata": {
        "colab": {
          "base_uri": "https://localhost:8080/"
        },
        "id": "8Z9QH70sRMXv",
        "outputId": "e97e79be-d71b-40c2-dae2-7e5c3085b22d"
      },
      "execution_count": null,
      "outputs": [
        {
          "output_type": "stream",
          "name": "stdout",
          "text": [
            "\n",
            "Choose an option:\n",
            "1: Problem 1a\n",
            "2: Problem 1b\n",
            "3: Problem 2\n",
            "4: Problem 5\n",
            "5: Quit\n"
          ]
        }
      ]
    }
  ]
}