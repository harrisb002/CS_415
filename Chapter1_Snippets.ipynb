{
  "nbformat": 4,
  "nbformat_minor": 0,
  "metadata": {
    "colab": {
      "provenance": [],
      "authorship_tag": "ABX9TyM83rkGP6pLpZ48Zyidb0OF",
      "include_colab_link": true
    },
    "kernelspec": {
      "name": "python3",
      "display_name": "Python 3"
    },
    "language_info": {
      "name": "python"
    }
  },
  "cells": [
    {
      "cell_type": "markdown",
      "metadata": {
        "id": "view-in-github",
        "colab_type": "text"
      },
      "source": [
        "<a href=\"https://colab.research.google.com/github/harrisb002/CS_415/blob/Chp1/Chapter1_Snippets.ipynb\" target=\"_parent\"><img src=\"https://colab.research.google.com/assets/colab-badge.svg\" alt=\"Open In Colab\"/></a>"
      ]
    },
    {
      "cell_type": "markdown",
      "source": [
        "# Notes for Chapter 1"
      ],
      "metadata": {
        "id": "uEXphfXeXB6S"
      }
    },
    {
      "cell_type": "markdown",
      "source": [
        "For larger values of n\n",
        "1.   2 rec. invocations of fib1, taking time T (n − 1) and T(n−2)\n",
        "\n",
        "There are , respectively, plus three computer steps (checks on the value of n and a final addition).\n",
        "2.   T(n)=T(n−1)+T(n−2)+3 forn>1.\n",
        "\n",
        "Compare this to the recurrence relation for Fn: we immediately see that\n",
        "3.   T(n) ≥ Fn.\n",
        "\n",
        "\n",
        "**This is very bad news**: The running time of the algorithm grows as fast as the Fibonacci numbers! T(n) is exponential in n, which implies that the algorithm is impractically slow."
      ],
      "metadata": {
        "id": "LQ5e8vwhXPnR"
      }
    },
    {
      "cell_type": "code",
      "execution_count": 14,
      "metadata": {
        "colab": {
          "base_uri": "https://localhost:8080/"
        },
        "id": "u4JrdQiVSGjE",
        "outputId": "a2cb8907-5537-4566-e029-c5f0e27b98ef"
      },
      "outputs": [
        {
          "output_type": "stream",
          "name": "stdout",
          "text": [
            "8\n"
          ]
        }
      ],
      "source": [
        "def fib1(n):\n",
        "    if n == 0:\n",
        "        return 0\n",
        "    if n == 1:\n",
        "        return 1\n",
        "    return fib1(n - 1) + fib1(n - 2)\n",
        "\n",
        "n = 6\n",
        "print(fib1(n))"
      ]
    },
    {
      "cell_type": "markdown",
      "source": [
        "Better Implemetation taking into account the previous calculations:\n",
        "1. inner loop consists of a single computer step and is executed\n",
        "n − 1 times.\n",
        "2.  Thus the number of steps used by fib2 is linear\n",
        "\n",
        "From exponential we are down to polynomial, a huge breakthrough in running time."
      ],
      "metadata": {
        "id": "qCq5ywLVYNkb"
      }
    },
    {
      "cell_type": "code",
      "source": [
        "def fib2(n):\n",
        "    if n == 0:\n",
        "        return 0\n",
        "    if n == 1:\n",
        "        return 1\n",
        "\n",
        "    arr = [0] * (n + 1)\n",
        "    arr[0] = 0\n",
        "    arr[1] = 1\n",
        "\n",
        "    for i in range(2, n + 1):\n",
        "        arr[i] = arr[i - 1] + arr[i - 2]\n",
        "\n",
        "    return arr[n]\n",
        "\n",
        "n = 6\n",
        "print(fib2(n))\n"
      ],
      "metadata": {
        "id": "glYVpkyaSdQI",
        "colab": {
          "base_uri": "https://localhost:8080/"
        },
        "outputId": "79348c9b-897c-4a23-848d-c43c58bd62ce"
      },
      "execution_count": 15,
      "outputs": [
        {
          "output_type": "stream",
          "name": "stdout",
          "text": [
            "8\n"
          ]
        }
      ]
    }
  ]
}