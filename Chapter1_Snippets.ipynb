{
  "nbformat": 4,
  "nbformat_minor": 0,
  "metadata": {
    "colab": {
      "provenance": [],
      "authorship_tag": "ABX9TyMCsYln524hOgpxQiR8nDRR",
      "include_colab_link": true
    },
    "kernelspec": {
      "name": "python3",
      "display_name": "Python 3"
    },
    "language_info": {
      "name": "python"
    }
  },
  "cells": [
    {
      "cell_type": "markdown",
      "metadata": {
        "id": "view-in-github",
        "colab_type": "text"
      },
      "source": [
        "<a href=\"https://colab.research.google.com/github/harrisb002/CS_415/blob/Chp1/Chapter1_Snippets.ipynb\" target=\"_parent\"><img src=\"https://colab.research.google.com/assets/colab-badge.svg\" alt=\"Open In Colab\"/></a>"
      ]
    },
    {
      "cell_type": "markdown",
      "source": [
        "# Notes for Chapter 1"
      ],
      "metadata": {
        "id": "uEXphfXeXB6S"
      }
    },
    {
      "cell_type": "markdown",
      "source": [
        "For larger values of n\n",
        "1.   2 rec. invocations of fib1, taking time T (n − 1) and T(n−2)\n",
        "\n",
        "There are , respectively, plus three computer steps (checks on the value of n and a final addition).\n",
        "2.   T(n)=T(n−1)+T(n−2)+3 forn>1.\n",
        "\n",
        "Compare this to the recurrence relation for Fn: we immediately see that\n",
        "3.   T(n) ≥ Fn.\n",
        "\n",
        "\n",
        "**This is very bad news**: The running time of the algorithm grows as fast as the Fibonacci numbers! T(n) is exponential in n, which implies that the algorithm is impractically slow."
      ],
      "metadata": {
        "id": "LQ5e8vwhXPnR"
      }
    },
    {
      "cell_type": "code",
      "execution_count": null,
      "metadata": {
        "colab": {
          "base_uri": "https://localhost:8080/"
        },
        "id": "u4JrdQiVSGjE",
        "outputId": "a2cb8907-5537-4566-e029-c5f0e27b98ef"
      },
      "outputs": [
        {
          "output_type": "stream",
          "name": "stdout",
          "text": [
            "8\n"
          ]
        }
      ],
      "source": [
        "def fib1(n):\n",
        "    if n == 0:\n",
        "        return 0\n",
        "    if n == 1:\n",
        "        return 1\n",
        "    return fib1(n - 1) + fib1(n - 2)\n",
        "\n",
        "n = 6\n",
        "print(fib1(n))"
      ]
    },
    {
      "cell_type": "markdown",
      "source": [
        "Better Implemetation taking into account the previous calculations:\n",
        "1. inner loop consists of a single computer step and is executed\n",
        "n − 1 times.\n",
        "2.  Thus the number of steps used by fib2 is linear\n",
        "\n",
        "From exponential we are down to polynomial, a huge breakthrough in running time."
      ],
      "metadata": {
        "id": "qCq5ywLVYNkb"
      }
    },
    {
      "cell_type": "code",
      "source": [
        "def fib2(n):\n",
        "    if n == 0:\n",
        "        return 0\n",
        "    if n == 1:\n",
        "        return 1\n",
        "\n",
        "    arr = [0] * (n + 1)\n",
        "    arr[0] = 0\n",
        "    arr[1] = 1\n",
        "\n",
        "    for i in range(2, n + 1):\n",
        "        arr[i] = arr[i - 1] + arr[i - 2]\n",
        "\n",
        "    return arr[n]\n",
        "\n",
        "n = 6\n",
        "print(fib2(n))\n"
      ],
      "metadata": {
        "id": "glYVpkyaSdQI",
        "colab": {
          "base_uri": "https://localhost:8080/"
        },
        "outputId": "79348c9b-897c-4a23-848d-c43c58bd62ce"
      },
      "execution_count": null,
      "outputs": [
        {
          "output_type": "stream",
          "name": "stdout",
          "text": [
            "8\n"
          ]
        }
      ]
    },
    {
      "cell_type": "markdown",
      "source": [
        "Modular exponentiation\n",
        "---\n",
        "1.  Euclid’s algorithm for finding the greatest common divisor of two numbers.\n",
        "2. If x and y are positive integers with x ≥ y, then gcd(x, y) = gcd(x mod y, y)."
      ],
      "metadata": {
        "id": "PY96_70W8HnR"
      }
    },
    {
      "cell_type": "code",
      "source": [
        "def gcd(a, b):\n",
        "    if b == 0:\n",
        "        return a\n",
        "    return gcd(b, a % b)\n",
        "\n",
        "# Example usage:\n",
        "a = 36\n",
        "b = 52\n",
        "\n",
        "result = gcd(a, b)\n",
        "print(\"GCD of\", a, \"and\", b, \"is:\", result)\n"
      ],
      "metadata": {
        "colab": {
          "base_uri": "https://localhost:8080/"
        },
        "id": "O-RZlux48UN9",
        "outputId": "9a1bc6de-a809-4aa7-a1d4-2a503b3cdfe7"
      },
      "execution_count": null,
      "outputs": [
        {
          "output_type": "stream",
          "name": "stdout",
          "text": [
            "GCD of 36 and 52 is: 4\n"
          ]
        }
      ]
    },
    {
      "cell_type": "markdown",
      "source": [
        "Extension of Euclid’s algorithm\n",
        "---\n",
        "1. If d divides both a and b, and d = ax + by for some integers x and y, then necessarily d = gcd(a, b).\n",
        "2. For any positive integers a and b, the extended Euclid algorithm returns integers x, y, and d such that gcd(a, b) = d = ax + by.\n",
        "\n"
      ],
      "metadata": {
        "id": "2e6aGwIU83xm"
      }
    },
    {
      "cell_type": "code",
      "source": [
        "def ext_euclid(a, b):\n",
        "  if b == 0:\n",
        "    return (1, 0, a)\n",
        "\n",
        "  x_prime, y_prime, d = ext_euclid(b, a % b)\n",
        "\n",
        "  x = y_prime\n",
        "  y = x_prime - (a // b) * y_prime\n",
        "\n",
        "  step = (x, y, d)\n",
        "  print(step)\n",
        "  return step\n",
        "\n",
        "# a = 121\n",
        "# b = 19\n",
        "# x, y, d = ext_euclid(a, b)\n",
        "\n",
        "# print(\"GCD of\", a, \"and\", b, \"is:\", d)\n",
        "# print(\"x:\", x)\n",
        "# print(\"y:\", y)\n",
        "\n"
      ],
      "metadata": {
        "id": "eoDJhfei9aFC"
      },
      "execution_count": 6,
      "outputs": []
    },
    {
      "cell_type": "code",
      "source": [
        "def inverseModN(a, N):\n",
        "  res = ext_euclid(N, a)\n",
        "  if res[2] != 1:\n",
        "      return None\n",
        "  y = res[1]\n",
        "  if y < 0:\n",
        "      return N + y\n",
        "  return y\n",
        "\n",
        "a = 13\n",
        "b = 17\n",
        "\n",
        "result = inverseModN(a, b)\n",
        "\n",
        "print(\"Inverse of\", a, \"and\", b, \"is:\", result)"
      ],
      "metadata": {
        "colab": {
          "base_uri": "https://localhost:8080/"
        },
        "id": "TrwYsJy__hS6",
        "outputId": "648a66ef-49ad-4ae5-f1f6-6b32d34bb942"
      },
      "execution_count": 9,
      "outputs": [
        {
          "output_type": "stream",
          "name": "stdout",
          "text": [
            "(0, 1, 1)\n",
            "(1, -3, 1)\n",
            "(-3, 4, 1)\n",
            "Inverse of 13 and 17 is: 4\n"
          ]
        }
      ]
    },
    {
      "cell_type": "markdown",
      "source": [
        "Mod Exponentiation\n",
        "---\n",
        "\n"
      ],
      "metadata": {
        "id": "wokkmCCrh1dO"
      }
    },
    {
      "cell_type": "code",
      "source": [
        "def modexp(x, y, N, count):\n",
        "  if y == 0:\n",
        "      return 1, count\n",
        "  z, count = modexp(x, y // 2, N, count)\n",
        "  if y % 2 == 0:\n",
        "      result = (z * z) % N\n",
        "      count += 1  # Increment the count for this multiplication\n",
        "  else:\n",
        "      result = (x * z * z) % N\n",
        "      count += 2  # Increment the count for two multiplications\n",
        "  return result, count\n",
        "\n",
        "mod, count = modexp(1972, 91, 3202, 0)\n",
        "\n",
        "print(\"Result:\", mod)\n",
        "print(\"Number of Multiplications:\", count)\n"
      ],
      "metadata": {
        "colab": {
          "base_uri": "https://localhost:8080/"
        },
        "id": "FE6uez_uhuP-",
        "outputId": "6bd72d37-97da-465b-9687-80e136a9d32f"
      },
      "execution_count": 13,
      "outputs": [
        {
          "output_type": "stream",
          "name": "stdout",
          "text": [
            "Result: 724\n",
            "Number of Multiplications: 12\n"
          ]
        }
      ]
    },
    {
      "cell_type": "markdown",
      "source": [
        "Modular division\n",
        "---\n",
        "1.   We say x is the multiplicative inverse of a modulo N if ax ≡ 1 (mod N).\n",
        "2.   When gcd(a, N ) = 1 (we say a and N are relatively prime)\n",
        "3.   the extended Euclid algorithm gives us integers x and y such that ax + Ny = 1, which means that ax ≡ 1 (mod N). Thus x is a’s sought inverse.\n",
        "\n",
        "\n",
        "\n"
      ],
      "metadata": {
        "id": "brHig93o6oBo"
      }
    }
  ]
}